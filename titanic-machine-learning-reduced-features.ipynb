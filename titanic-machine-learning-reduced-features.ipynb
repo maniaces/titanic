{
 "cells": [
  {
   "cell_type": "code",
   "execution_count": 1,
   "metadata": {
    "execution": {
     "iopub.execute_input": "2020-09-13T13:35:56.545198Z",
     "iopub.status.busy": "2020-09-13T13:35:56.544622Z",
     "iopub.status.idle": "2020-09-13T13:35:56.549781Z",
     "shell.execute_reply": "2020-09-13T13:35:56.549221Z"
    },
    "papermill": {
     "duration": 0.040391,
     "end_time": "2020-09-13T13:35:56.549880",
     "exception": false,
     "start_time": "2020-09-13T13:35:56.509489",
     "status": "completed"
    },
    "tags": []
   },
   "outputs": [],
   "source": [
    "# Import the necessary libraries\n",
    "import numpy as np\n",
    "import pandas as pd\n",
    "import os\n",
    "import time\n",
    "import warnings\n",
    "import os\n",
    "from six.moves import urllib\n",
    "import matplotlib\n",
    "import matplotlib.pyplot as plt\n",
    "warnings.filterwarnings('ignore')"
   ]
  },
  {
   "cell_type": "code",
   "execution_count": 2,
   "metadata": {
    "execution": {
     "iopub.execute_input": "2020-09-13T13:35:56.617539Z",
     "iopub.status.busy": "2020-09-13T13:35:56.616754Z",
     "iopub.status.idle": "2020-09-13T13:35:57.690919Z",
     "shell.execute_reply": "2020-09-13T13:35:57.689385Z"
    },
    "papermill": {
     "duration": 1.11154,
     "end_time": "2020-09-13T13:35:57.691044",
     "exception": false,
     "start_time": "2020-09-13T13:35:56.579504",
     "status": "completed"
    },
    "tags": []
   },
   "outputs": [],
   "source": [
    "#Add All the Models Libraries\n",
    "\n",
    "# Scalers\n",
    "from sklearn.preprocessing import StandardScaler\n",
    "from sklearn.utils import shuffle\n",
    "from sklearn.pipeline import Pipeline\n",
    "from sklearn.pipeline import FeatureUnion\n",
    "\n",
    "# Models\n",
    "from sklearn.linear_model import LogisticRegression #logistic regression\n",
    "from sklearn.svm import SVC # Support Vector Classifier\n",
    "from sklearn.ensemble import RandomForestClassifier #Random Forest\n",
    "from sklearn.neighbors import KNeighborsClassifier #KNN\n",
    "from sklearn.ensemble import ExtraTreesClassifier \n",
    "from sklearn.ensemble import VotingClassifier\n",
    "from sklearn.neural_network import MLPClassifier\n",
    "from sklearn.tree import DecisionTreeClassifier #Decision Tree\n",
    "\n",
    "from sklearn.ensemble import GradientBoostingClassifier\n",
    "from sklearn.model_selection import train_test_split #training and testing data split\n",
    "from sklearn import metrics #accuracy measure\n",
    "from sklearn.metrics import confusion_matrix #for confusion matrix\n",
    "from scipy.stats import reciprocal, uniform\n",
    "\n",
    "from sklearn.ensemble import AdaBoostClassifier\n",
    "\n",
    "\n",
    "# Cross-validation\n",
    "from sklearn.model_selection import KFold #for K-fold cross validation\n",
    "from sklearn.model_selection import cross_val_score #score evaluation\n",
    "from sklearn.model_selection import cross_val_predict #prediction\n",
    "from sklearn.model_selection import cross_validate\n",
    "\n",
    "# GridSearchCV\n",
    "from sklearn.model_selection import GridSearchCV\n",
    "from sklearn.model_selection import RandomizedSearchCV\n",
    "\n",
    "#Common data processors\n",
    "from sklearn.preprocessing import OneHotEncoder, LabelEncoder\n",
    "from sklearn import feature_selection\n",
    "from sklearn import model_selection\n",
    "from sklearn import metrics\n",
    "from sklearn.base import BaseEstimator, TransformerMixin\n",
    "from sklearn.utils import check_array\n",
    "from scipy import sparse\n",
    "\n",
    "#Accuracy Score\n",
    "from sklearn.metrics import accuracy_score"
   ]
  },
  {
   "cell_type": "code",
   "execution_count": 3,
   "metadata": {
    "execution": {
     "iopub.execute_input": "2020-09-13T13:35:57.756064Z",
     "iopub.status.busy": "2020-09-13T13:35:57.755532Z",
     "iopub.status.idle": "2020-09-13T13:35:57.758309Z",
     "shell.execute_reply": "2020-09-13T13:35:57.757903Z"
    },
    "papermill": {
     "duration": 0.038654,
     "end_time": "2020-09-13T13:35:57.758408",
     "exception": false,
     "start_time": "2020-09-13T13:35:57.719754",
     "status": "completed"
    },
    "tags": []
   },
   "outputs": [],
   "source": [
    "# to make this notebook's output stable across runs\n",
    "np.random.seed(123)\n",
    "\n",
    "# To plot pretty figures\n",
    "%matplotlib inline\n",
    "plt.rcParams['axes.labelsize'] = 14\n",
    "plt.rcParams['xtick.labelsize'] = 12\n",
    "plt.rcParams['ytick.labelsize'] = 12"
   ]
  },
  {
   "cell_type": "code",
   "execution_count": 4,
   "metadata": {
    "execution": {
     "iopub.execute_input": "2020-09-13T13:35:57.822929Z",
     "iopub.status.busy": "2020-09-13T13:35:57.822240Z",
     "iopub.status.idle": "2020-09-13T13:35:57.851412Z",
     "shell.execute_reply": "2020-09-13T13:35:57.852023Z"
    },
    "papermill": {
     "duration": 0.064948,
     "end_time": "2020-09-13T13:35:57.852178",
     "exception": false,
     "start_time": "2020-09-13T13:35:57.787230",
     "status": "completed"
    },
    "tags": []
   },
   "outputs": [],
   "source": [
    "#merge the data for feature engineering and later split it, just before applying Data Pipeline\n",
    "TrainFile = pd.read_csv(\"/kaggle/input/titanic/train.csv\")\n",
    "TestFile = pd.read_csv(\"/kaggle/input/titanic/test.csv\")\n",
    "passenger_id_test = TestFile[\"PassengerId\"].copy()\n",
    "DataFile = TrainFile.append(TestFile)"
   ]
  },
  {
   "cell_type": "code",
   "execution_count": 5,
   "metadata": {
    "execution": {
     "iopub.execute_input": "2020-09-13T13:35:57.917336Z",
     "iopub.status.busy": "2020-09-13T13:35:57.916366Z",
     "iopub.status.idle": "2020-09-13T13:35:57.920287Z",
     "shell.execute_reply": "2020-09-13T13:35:57.919801Z"
    },
    "papermill": {
     "duration": 0.038532,
     "end_time": "2020-09-13T13:35:57.920383",
     "exception": false,
     "start_time": "2020-09-13T13:35:57.881851",
     "status": "completed"
    },
    "tags": []
   },
   "outputs": [
    {
     "data": {
      "text/plain": [
       "(891, 12)"
      ]
     },
     "execution_count": 5,
     "metadata": {},
     "output_type": "execute_result"
    }
   ],
   "source": [
    "TrainFile.shape"
   ]
  },
  {
   "cell_type": "code",
   "execution_count": 6,
   "metadata": {
    "execution": {
     "iopub.execute_input": "2020-09-13T13:35:57.984634Z",
     "iopub.status.busy": "2020-09-13T13:35:57.983754Z",
     "iopub.status.idle": "2020-09-13T13:35:57.987698Z",
     "shell.execute_reply": "2020-09-13T13:35:57.987120Z"
    },
    "papermill": {
     "duration": 0.037378,
     "end_time": "2020-09-13T13:35:57.987817",
     "exception": false,
     "start_time": "2020-09-13T13:35:57.950439",
     "status": "completed"
    },
    "tags": []
   },
   "outputs": [
    {
     "data": {
      "text/plain": [
       "(418, 11)"
      ]
     },
     "execution_count": 6,
     "metadata": {},
     "output_type": "execute_result"
    }
   ],
   "source": [
    "TestFile.shape"
   ]
  },
  {
   "cell_type": "code",
   "execution_count": 7,
   "metadata": {
    "execution": {
     "iopub.execute_input": "2020-09-13T13:35:58.057558Z",
     "iopub.status.busy": "2020-09-13T13:35:58.054342Z",
     "iopub.status.idle": "2020-09-13T13:35:58.083845Z",
     "shell.execute_reply": "2020-09-13T13:35:58.083242Z"
    },
    "papermill": {
     "duration": 0.066743,
     "end_time": "2020-09-13T13:35:58.083949",
     "exception": false,
     "start_time": "2020-09-13T13:35:58.017206",
     "status": "completed"
    },
    "tags": []
   },
   "outputs": [
    {
     "data": {
      "text/html": [
       "<div>\n",
       "<style scoped>\n",
       "    .dataframe tbody tr th:only-of-type {\n",
       "        vertical-align: middle;\n",
       "    }\n",
       "\n",
       "    .dataframe tbody tr th {\n",
       "        vertical-align: top;\n",
       "    }\n",
       "\n",
       "    .dataframe thead th {\n",
       "        text-align: right;\n",
       "    }\n",
       "</style>\n",
       "<table border=\"1\" class=\"dataframe\">\n",
       "  <thead>\n",
       "    <tr style=\"text-align: right;\">\n",
       "      <th></th>\n",
       "      <th>PassengerId</th>\n",
       "      <th>Survived</th>\n",
       "      <th>Pclass</th>\n",
       "      <th>Age</th>\n",
       "      <th>SibSp</th>\n",
       "      <th>Parch</th>\n",
       "      <th>Fare</th>\n",
       "    </tr>\n",
       "  </thead>\n",
       "  <tbody>\n",
       "    <tr>\n",
       "      <th>count</th>\n",
       "      <td>1309.000000</td>\n",
       "      <td>891.000000</td>\n",
       "      <td>1309.000000</td>\n",
       "      <td>1046.000000</td>\n",
       "      <td>1309.000000</td>\n",
       "      <td>1309.000000</td>\n",
       "      <td>1308.000000</td>\n",
       "    </tr>\n",
       "    <tr>\n",
       "      <th>mean</th>\n",
       "      <td>655.000000</td>\n",
       "      <td>0.383838</td>\n",
       "      <td>2.294882</td>\n",
       "      <td>29.881138</td>\n",
       "      <td>0.498854</td>\n",
       "      <td>0.385027</td>\n",
       "      <td>33.295479</td>\n",
       "    </tr>\n",
       "    <tr>\n",
       "      <th>std</th>\n",
       "      <td>378.020061</td>\n",
       "      <td>0.486592</td>\n",
       "      <td>0.837836</td>\n",
       "      <td>14.413493</td>\n",
       "      <td>1.041658</td>\n",
       "      <td>0.865560</td>\n",
       "      <td>51.758668</td>\n",
       "    </tr>\n",
       "    <tr>\n",
       "      <th>min</th>\n",
       "      <td>1.000000</td>\n",
       "      <td>0.000000</td>\n",
       "      <td>1.000000</td>\n",
       "      <td>0.170000</td>\n",
       "      <td>0.000000</td>\n",
       "      <td>0.000000</td>\n",
       "      <td>0.000000</td>\n",
       "    </tr>\n",
       "    <tr>\n",
       "      <th>25%</th>\n",
       "      <td>328.000000</td>\n",
       "      <td>0.000000</td>\n",
       "      <td>2.000000</td>\n",
       "      <td>21.000000</td>\n",
       "      <td>0.000000</td>\n",
       "      <td>0.000000</td>\n",
       "      <td>7.895800</td>\n",
       "    </tr>\n",
       "    <tr>\n",
       "      <th>50%</th>\n",
       "      <td>655.000000</td>\n",
       "      <td>0.000000</td>\n",
       "      <td>3.000000</td>\n",
       "      <td>28.000000</td>\n",
       "      <td>0.000000</td>\n",
       "      <td>0.000000</td>\n",
       "      <td>14.454200</td>\n",
       "    </tr>\n",
       "    <tr>\n",
       "      <th>75%</th>\n",
       "      <td>982.000000</td>\n",
       "      <td>1.000000</td>\n",
       "      <td>3.000000</td>\n",
       "      <td>39.000000</td>\n",
       "      <td>1.000000</td>\n",
       "      <td>0.000000</td>\n",
       "      <td>31.275000</td>\n",
       "    </tr>\n",
       "    <tr>\n",
       "      <th>max</th>\n",
       "      <td>1309.000000</td>\n",
       "      <td>1.000000</td>\n",
       "      <td>3.000000</td>\n",
       "      <td>80.000000</td>\n",
       "      <td>8.000000</td>\n",
       "      <td>9.000000</td>\n",
       "      <td>512.329200</td>\n",
       "    </tr>\n",
       "  </tbody>\n",
       "</table>\n",
       "</div>"
      ],
      "text/plain": [
       "       PassengerId    Survived       Pclass          Age        SibSp  \\\n",
       "count  1309.000000  891.000000  1309.000000  1046.000000  1309.000000   \n",
       "mean    655.000000    0.383838     2.294882    29.881138     0.498854   \n",
       "std     378.020061    0.486592     0.837836    14.413493     1.041658   \n",
       "min       1.000000    0.000000     1.000000     0.170000     0.000000   \n",
       "25%     328.000000    0.000000     2.000000    21.000000     0.000000   \n",
       "50%     655.000000    0.000000     3.000000    28.000000     0.000000   \n",
       "75%     982.000000    1.000000     3.000000    39.000000     1.000000   \n",
       "max    1309.000000    1.000000     3.000000    80.000000     8.000000   \n",
       "\n",
       "             Parch         Fare  \n",
       "count  1309.000000  1308.000000  \n",
       "mean      0.385027    33.295479  \n",
       "std       0.865560    51.758668  \n",
       "min       0.000000     0.000000  \n",
       "25%       0.000000     7.895800  \n",
       "50%       0.000000    14.454200  \n",
       "75%       0.000000    31.275000  \n",
       "max       9.000000   512.329200  "
      ]
     },
     "execution_count": 7,
     "metadata": {},
     "output_type": "execute_result"
    }
   ],
   "source": [
    "DataFile.describe()"
   ]
  },
  {
   "cell_type": "code",
   "execution_count": 8,
   "metadata": {
    "execution": {
     "iopub.execute_input": "2020-09-13T13:35:58.156264Z",
     "iopub.status.busy": "2020-09-13T13:35:58.155727Z",
     "iopub.status.idle": "2020-09-13T13:35:58.159713Z",
     "shell.execute_reply": "2020-09-13T13:35:58.160697Z"
    },
    "papermill": {
     "duration": 0.046928,
     "end_time": "2020-09-13T13:35:58.160835",
     "exception": false,
     "start_time": "2020-09-13T13:35:58.113907",
     "status": "completed"
    },
    "tags": []
   },
   "outputs": [
    {
     "name": "stdout",
     "output_type": "stream",
     "text": [
      "<class 'pandas.core.frame.DataFrame'>\n",
      "Int64Index: 1309 entries, 0 to 417\n",
      "Data columns (total 12 columns):\n",
      " #   Column       Non-Null Count  Dtype  \n",
      "---  ------       --------------  -----  \n",
      " 0   PassengerId  1309 non-null   int64  \n",
      " 1   Survived     891 non-null    float64\n",
      " 2   Pclass       1309 non-null   int64  \n",
      " 3   Name         1309 non-null   object \n",
      " 4   Sex          1309 non-null   object \n",
      " 5   Age          1046 non-null   float64\n",
      " 6   SibSp        1309 non-null   int64  \n",
      " 7   Parch        1309 non-null   int64  \n",
      " 8   Ticket       1309 non-null   object \n",
      " 9   Fare         1308 non-null   float64\n",
      " 10  Cabin        295 non-null    object \n",
      " 11  Embarked     1307 non-null   object \n",
      "dtypes: float64(3), int64(4), object(5)\n",
      "memory usage: 132.9+ KB\n"
     ]
    }
   ],
   "source": [
    "DataFile.info()"
   ]
  },
  {
   "cell_type": "code",
   "execution_count": 9,
   "metadata": {
    "execution": {
     "iopub.execute_input": "2020-09-13T13:35:58.228243Z",
     "iopub.status.busy": "2020-09-13T13:35:58.227702Z",
     "iopub.status.idle": "2020-09-13T13:35:58.229941Z",
     "shell.execute_reply": "2020-09-13T13:35:58.229417Z"
    },
    "papermill": {
     "duration": 0.038718,
     "end_time": "2020-09-13T13:35:58.230035",
     "exception": false,
     "start_time": "2020-09-13T13:35:58.191317",
     "status": "completed"
    },
    "tags": []
   },
   "outputs": [],
   "source": [
    "# First Split the names to gt Mr. or Miss or Mrs.\n",
    "\n",
    "FirstName = DataFile[\"Name\"].str.split(\"[,.]\")"
   ]
  },
  {
   "cell_type": "code",
   "execution_count": 10,
   "metadata": {
    "execution": {
     "iopub.execute_input": "2020-09-13T13:35:58.294768Z",
     "iopub.status.busy": "2020-09-13T13:35:58.294243Z",
     "iopub.status.idle": "2020-09-13T13:35:58.296877Z",
     "shell.execute_reply": "2020-09-13T13:35:58.296319Z"
    },
    "papermill": {
     "duration": 0.036973,
     "end_time": "2020-09-13T13:35:58.296974",
     "exception": false,
     "start_time": "2020-09-13T13:35:58.260001",
     "status": "completed"
    },
    "tags": []
   },
   "outputs": [],
   "source": [
    "# now strip the white spaces from the Salutation\n",
    "titles = [str.strip(name[1]) for name in FirstName.values]"
   ]
  },
  {
   "cell_type": "code",
   "execution_count": 11,
   "metadata": {
    "execution": {
     "iopub.execute_input": "2020-09-13T13:35:58.362778Z",
     "iopub.status.busy": "2020-09-13T13:35:58.362254Z",
     "iopub.status.idle": "2020-09-13T13:35:58.364268Z",
     "shell.execute_reply": "2020-09-13T13:35:58.364711Z"
    },
    "papermill": {
     "duration": 0.037509,
     "end_time": "2020-09-13T13:35:58.364830",
     "exception": false,
     "start_time": "2020-09-13T13:35:58.327321",
     "status": "completed"
    },
    "tags": []
   },
   "outputs": [],
   "source": [
    "DataFile[\"Title\"] = titles"
   ]
  },
  {
   "cell_type": "code",
   "execution_count": 12,
   "metadata": {
    "execution": {
     "iopub.execute_input": "2020-09-13T13:35:58.428578Z",
     "iopub.status.busy": "2020-09-13T13:35:58.428057Z",
     "iopub.status.idle": "2020-09-13T13:35:58.435004Z",
     "shell.execute_reply": "2020-09-13T13:35:58.435401Z"
    },
    "papermill": {
     "duration": 0.040415,
     "end_time": "2020-09-13T13:35:58.435539",
     "exception": false,
     "start_time": "2020-09-13T13:35:58.395124",
     "status": "completed"
    },
    "tags": []
   },
   "outputs": [],
   "source": [
    "#drop the columns - that may not impact the analysis\n",
    "DataFile = DataFile.drop('Name',axis=1)\n",
    "DataFile = DataFile.drop('PassengerId',axis=1)\n",
    "DataFile = DataFile.drop('Embarked',axis=1)"
   ]
  },
  {
   "cell_type": "code",
   "execution_count": 13,
   "metadata": {
    "execution": {
     "iopub.execute_input": "2020-09-13T13:35:58.502139Z",
     "iopub.status.busy": "2020-09-13T13:35:58.501361Z",
     "iopub.status.idle": "2020-09-13T13:35:58.504149Z",
     "shell.execute_reply": "2020-09-13T13:35:58.503638Z"
    },
    "papermill": {
     "duration": 0.038026,
     "end_time": "2020-09-13T13:35:58.504243",
     "exception": false,
     "start_time": "2020-09-13T13:35:58.466217",
     "status": "completed"
    },
    "tags": []
   },
   "outputs": [],
   "source": [
    "# In version 1, we kept Ticket - This time we drop it.\n",
    "\n",
    "DataFile = DataFile.drop('Ticket',axis=1)"
   ]
  },
  {
   "cell_type": "code",
   "execution_count": 14,
   "metadata": {
    "execution": {
     "iopub.execute_input": "2020-09-13T13:35:58.567619Z",
     "iopub.status.busy": "2020-09-13T13:35:58.567054Z",
     "iopub.status.idle": "2020-09-13T13:35:58.571820Z",
     "shell.execute_reply": "2020-09-13T13:35:58.572276Z"
    },
    "papermill": {
     "duration": 0.037713,
     "end_time": "2020-09-13T13:35:58.572399",
     "exception": false,
     "start_time": "2020-09-13T13:35:58.534686",
     "status": "completed"
    },
    "tags": []
   },
   "outputs": [],
   "source": [
    "# In version 1, we kept cabin - This time we drop it.\n",
    "\n",
    "DataFile = DataFile.drop('Cabin',axis=1)"
   ]
  },
  {
   "cell_type": "code",
   "execution_count": 15,
   "metadata": {
    "execution": {
     "iopub.execute_input": "2020-09-13T13:35:58.636670Z",
     "iopub.status.busy": "2020-09-13T13:35:58.636097Z",
     "iopub.status.idle": "2020-09-13T13:35:58.643103Z",
     "shell.execute_reply": "2020-09-13T13:35:58.643555Z"
    },
    "papermill": {
     "duration": 0.040673,
     "end_time": "2020-09-13T13:35:58.643674",
     "exception": false,
     "start_time": "2020-09-13T13:35:58.603001",
     "status": "completed"
    },
    "tags": []
   },
   "outputs": [],
   "source": [
    "# Now first we replace the extra titles to Mr and Mrs\n",
    "\n",
    "mapping = {'Mlle': 'Miss', 'Major': 'Mr', 'Col': 'Mr', 'Sir': 'Mr', 'Don': 'Mr', 'Mme': 'Miss',\n",
    "          'Jonkheer': 'Mr', 'Lady': 'Mrs', 'Capt': 'Mr', 'the Countess': 'Mrs', 'Ms': 'Miss', 'Dona': 'Mrs'}\n",
    "\n",
    "DataFile.replace({'Title': mapping}, inplace=True)"
   ]
  },
  {
   "cell_type": "code",
   "execution_count": 16,
   "metadata": {
    "execution": {
     "iopub.execute_input": "2020-09-13T13:35:58.709959Z",
     "iopub.status.busy": "2020-09-13T13:35:58.709313Z",
     "iopub.status.idle": "2020-09-13T13:35:58.728082Z",
     "shell.execute_reply": "2020-09-13T13:35:58.728481Z"
    },
    "papermill": {
     "duration": 0.053708,
     "end_time": "2020-09-13T13:35:58.728640",
     "exception": false,
     "start_time": "2020-09-13T13:35:58.674932",
     "status": "completed"
    },
    "tags": []
   },
   "outputs": [],
   "source": [
    "# get the imputed value for FARE\n",
    "DataFile['Fare'].fillna(DataFile['Fare'].median(), inplace=True)\n",
    "\n",
    "#impute the age based on Titles \n",
    "titles = ['Dr', 'Master', 'Miss', 'Mr', 'Mrs', 'Rev']\n",
    "for title in titles:\n",
    "    imputed_age = DataFile.groupby('Title')['Age'].median()[titles.index(title)]\n",
    "    DataFile.loc[(DataFile['Age'].isnull()) & (DataFile['Title'] == title), 'Age'] = imputed_age"
   ]
  },
  {
   "cell_type": "code",
   "execution_count": 17,
   "metadata": {
    "execution": {
     "iopub.execute_input": "2020-09-13T13:35:58.795069Z",
     "iopub.status.busy": "2020-09-13T13:35:58.794483Z",
     "iopub.status.idle": "2020-09-13T13:35:58.817113Z",
     "shell.execute_reply": "2020-09-13T13:35:58.817491Z"
    },
    "papermill": {
     "duration": 0.057505,
     "end_time": "2020-09-13T13:35:58.817644",
     "exception": false,
     "start_time": "2020-09-13T13:35:58.760139",
     "status": "completed"
    },
    "tags": []
   },
   "outputs": [],
   "source": [
    "# Merge SibSp and Parch into one\n",
    "DataFile[\"Family Size\"] = DataFile[\"SibSp\"] + DataFile[\"Parch\"]\n",
    "\n",
    "#drop SibSp and Parch\n",
    "DataFile = DataFile.drop('SibSp',axis=1)\n",
    "DataFile = DataFile.drop('Parch',axis=1)"
   ]
  },
  {
   "cell_type": "code",
   "execution_count": 18,
   "metadata": {
    "execution": {
     "iopub.execute_input": "2020-09-13T13:35:58.882802Z",
     "iopub.status.busy": "2020-09-13T13:35:58.882208Z",
     "iopub.status.idle": "2020-09-13T13:35:58.909150Z",
     "shell.execute_reply": "2020-09-13T13:35:58.909553Z"
    },
    "papermill": {
     "duration": 0.061069,
     "end_time": "2020-09-13T13:35:58.909695",
     "exception": false,
     "start_time": "2020-09-13T13:35:58.848626",
     "status": "completed"
    },
    "tags": []
   },
   "outputs": [],
   "source": [
    "#Making Fare bins\n",
    "\n",
    "DataFile['FareBin'] = pd.qcut(DataFile['Fare'], 5)\n",
    "\n",
    "label = LabelEncoder()\n",
    "DataFile['FareBin'] = label.fit_transform(DataFile['FareBin'])\n",
    "DataFile = DataFile.drop('Fare',axis=1)\n",
    "\n",
    "#Making Age Bins\n",
    "DataFile['AgeBin'] = pd.qcut(DataFile['Age'], 4)\n",
    "\n",
    "label = LabelEncoder()\n",
    "DataFile['AgeBin'] = label.fit_transform(DataFile['AgeBin'])\n",
    "DataFile = DataFile.drop('Age',axis=1)"
   ]
  },
  {
   "cell_type": "code",
   "execution_count": 19,
   "metadata": {
    "execution": {
     "iopub.execute_input": "2020-09-13T13:35:58.975713Z",
     "iopub.status.busy": "2020-09-13T13:35:58.975084Z",
     "iopub.status.idle": "2020-09-13T13:35:58.980233Z",
     "shell.execute_reply": "2020-09-13T13:35:58.980695Z"
    },
    "papermill": {
     "duration": 0.039673,
     "end_time": "2020-09-13T13:35:58.980827",
     "exception": false,
     "start_time": "2020-09-13T13:35:58.941154",
     "status": "completed"
    },
    "tags": []
   },
   "outputs": [],
   "source": [
    "#create a dummy for male and female\n",
    "DataFile['Sex'].replace(['male','female'],[0,1],inplace=True)"
   ]
  },
  {
   "cell_type": "code",
   "execution_count": 20,
   "metadata": {
    "execution": {
     "iopub.execute_input": "2020-09-13T13:35:59.048110Z",
     "iopub.status.busy": "2020-09-13T13:35:59.047508Z",
     "iopub.status.idle": "2020-09-13T13:35:59.052215Z",
     "shell.execute_reply": "2020-09-13T13:35:59.052688Z"
    },
    "papermill": {
     "duration": 0.040368,
     "end_time": "2020-09-13T13:35:59.052813",
     "exception": false,
     "start_time": "2020-09-13T13:35:59.012445",
     "status": "completed"
    },
    "tags": []
   },
   "outputs": [],
   "source": [
    "#Now split Back The data to training and test set - before applying the pipeline\n",
    "\n",
    "train_set, test_set = train_test_split(DataFile, test_size=0.3193,shuffle=False)"
   ]
  },
  {
   "cell_type": "code",
   "execution_count": 21,
   "metadata": {
    "execution": {
     "iopub.execute_input": "2020-09-13T13:35:59.120232Z",
     "iopub.status.busy": "2020-09-13T13:35:59.119416Z",
     "iopub.status.idle": "2020-09-13T13:35:59.123434Z",
     "shell.execute_reply": "2020-09-13T13:35:59.122934Z"
    },
    "papermill": {
     "duration": 0.039548,
     "end_time": "2020-09-13T13:35:59.123554",
     "exception": false,
     "start_time": "2020-09-13T13:35:59.084006",
     "status": "completed"
    },
    "tags": []
   },
   "outputs": [
    {
     "data": {
      "text/plain": [
       "(891, 7)"
      ]
     },
     "execution_count": 21,
     "metadata": {},
     "output_type": "execute_result"
    }
   ],
   "source": [
    "train_set.shape # This exactly matches the original training set"
   ]
  },
  {
   "cell_type": "code",
   "execution_count": 22,
   "metadata": {
    "execution": {
     "iopub.execute_input": "2020-09-13T13:35:59.193204Z",
     "iopub.status.busy": "2020-09-13T13:35:59.192574Z",
     "iopub.status.idle": "2020-09-13T13:35:59.195767Z",
     "shell.execute_reply": "2020-09-13T13:35:59.195246Z"
    },
    "papermill": {
     "duration": 0.038895,
     "end_time": "2020-09-13T13:35:59.195863",
     "exception": false,
     "start_time": "2020-09-13T13:35:59.156968",
     "status": "completed"
    },
    "tags": []
   },
   "outputs": [
    {
     "data": {
      "text/plain": [
       "(418, 7)"
      ]
     },
     "execution_count": 22,
     "metadata": {},
     "output_type": "execute_result"
    }
   ],
   "source": [
    "test_set.shape # This exactly matches the original test set"
   ]
  },
  {
   "cell_type": "code",
   "execution_count": 23,
   "metadata": {
    "execution": {
     "iopub.execute_input": "2020-09-13T13:35:59.263102Z",
     "iopub.status.busy": "2020-09-13T13:35:59.262590Z",
     "iopub.status.idle": "2020-09-13T13:35:59.275229Z",
     "shell.execute_reply": "2020-09-13T13:35:59.275682Z"
    },
    "papermill": {
     "duration": 0.047639,
     "end_time": "2020-09-13T13:35:59.275804",
     "exception": false,
     "start_time": "2020-09-13T13:35:59.228165",
     "status": "completed"
    },
    "tags": []
   },
   "outputs": [
    {
     "data": {
      "text/html": [
       "<div>\n",
       "<style scoped>\n",
       "    .dataframe tbody tr th:only-of-type {\n",
       "        vertical-align: middle;\n",
       "    }\n",
       "\n",
       "    .dataframe tbody tr th {\n",
       "        vertical-align: top;\n",
       "    }\n",
       "\n",
       "    .dataframe thead th {\n",
       "        text-align: right;\n",
       "    }\n",
       "</style>\n",
       "<table border=\"1\" class=\"dataframe\">\n",
       "  <thead>\n",
       "    <tr style=\"text-align: right;\">\n",
       "      <th></th>\n",
       "      <th>Number of Observations</th>\n",
       "      <th>Percent</th>\n",
       "    </tr>\n",
       "  </thead>\n",
       "  <tbody>\n",
       "    <tr>\n",
       "      <th>AgeBin</th>\n",
       "      <td>0</td>\n",
       "      <td>0.0</td>\n",
       "    </tr>\n",
       "    <tr>\n",
       "      <th>FareBin</th>\n",
       "      <td>0</td>\n",
       "      <td>0.0</td>\n",
       "    </tr>\n",
       "    <tr>\n",
       "      <th>Family Size</th>\n",
       "      <td>0</td>\n",
       "      <td>0.0</td>\n",
       "    </tr>\n",
       "    <tr>\n",
       "      <th>Title</th>\n",
       "      <td>0</td>\n",
       "      <td>0.0</td>\n",
       "    </tr>\n",
       "    <tr>\n",
       "      <th>Sex</th>\n",
       "      <td>0</td>\n",
       "      <td>0.0</td>\n",
       "    </tr>\n",
       "    <tr>\n",
       "      <th>Pclass</th>\n",
       "      <td>0</td>\n",
       "      <td>0.0</td>\n",
       "    </tr>\n",
       "    <tr>\n",
       "      <th>Survived</th>\n",
       "      <td>0</td>\n",
       "      <td>0.0</td>\n",
       "    </tr>\n",
       "  </tbody>\n",
       "</table>\n",
       "</div>"
      ],
      "text/plain": [
       "             Number of Observations  Percent\n",
       "AgeBin                            0      0.0\n",
       "FareBin                           0      0.0\n",
       "Family Size                       0      0.0\n",
       "Title                             0      0.0\n",
       "Sex                               0      0.0\n",
       "Pclass                            0      0.0\n",
       "Survived                          0      0.0"
      ]
     },
     "execution_count": 23,
     "metadata": {},
     "output_type": "execute_result"
    }
   ],
   "source": [
    "#Check for the missing values to check if any random extraction happened? Validate that shuffle was false\n",
    "\n",
    "obs = train_set.isnull().sum().sort_values(ascending = False)\n",
    "percent = round(train_set.isnull().sum().sort_values(ascending = False)/len(train_set)*100, 2)\n",
    "pd.concat([obs, percent], axis = 1,keys= ['Number of Observations', 'Percent'])"
   ]
  },
  {
   "cell_type": "code",
   "execution_count": 24,
   "metadata": {
    "execution": {
     "iopub.execute_input": "2020-09-13T13:35:59.342936Z",
     "iopub.status.busy": "2020-09-13T13:35:59.342412Z",
     "iopub.status.idle": "2020-09-13T13:35:59.355016Z",
     "shell.execute_reply": "2020-09-13T13:35:59.355447Z"
    },
    "papermill": {
     "duration": 0.047624,
     "end_time": "2020-09-13T13:35:59.355583",
     "exception": false,
     "start_time": "2020-09-13T13:35:59.307959",
     "status": "completed"
    },
    "tags": []
   },
   "outputs": [
    {
     "data": {
      "text/html": [
       "<div>\n",
       "<style scoped>\n",
       "    .dataframe tbody tr th:only-of-type {\n",
       "        vertical-align: middle;\n",
       "    }\n",
       "\n",
       "    .dataframe tbody tr th {\n",
       "        vertical-align: top;\n",
       "    }\n",
       "\n",
       "    .dataframe thead th {\n",
       "        text-align: right;\n",
       "    }\n",
       "</style>\n",
       "<table border=\"1\" class=\"dataframe\">\n",
       "  <thead>\n",
       "    <tr style=\"text-align: right;\">\n",
       "      <th></th>\n",
       "      <th>Number of Observations</th>\n",
       "      <th>Percent</th>\n",
       "    </tr>\n",
       "  </thead>\n",
       "  <tbody>\n",
       "    <tr>\n",
       "      <th>Survived</th>\n",
       "      <td>418</td>\n",
       "      <td>100.0</td>\n",
       "    </tr>\n",
       "    <tr>\n",
       "      <th>AgeBin</th>\n",
       "      <td>0</td>\n",
       "      <td>0.0</td>\n",
       "    </tr>\n",
       "    <tr>\n",
       "      <th>FareBin</th>\n",
       "      <td>0</td>\n",
       "      <td>0.0</td>\n",
       "    </tr>\n",
       "    <tr>\n",
       "      <th>Family Size</th>\n",
       "      <td>0</td>\n",
       "      <td>0.0</td>\n",
       "    </tr>\n",
       "    <tr>\n",
       "      <th>Title</th>\n",
       "      <td>0</td>\n",
       "      <td>0.0</td>\n",
       "    </tr>\n",
       "    <tr>\n",
       "      <th>Sex</th>\n",
       "      <td>0</td>\n",
       "      <td>0.0</td>\n",
       "    </tr>\n",
       "    <tr>\n",
       "      <th>Pclass</th>\n",
       "      <td>0</td>\n",
       "      <td>0.0</td>\n",
       "    </tr>\n",
       "  </tbody>\n",
       "</table>\n",
       "</div>"
      ],
      "text/plain": [
       "             Number of Observations  Percent\n",
       "Survived                        418    100.0\n",
       "AgeBin                            0      0.0\n",
       "FareBin                           0      0.0\n",
       "Family Size                       0      0.0\n",
       "Title                             0      0.0\n",
       "Sex                               0      0.0\n",
       "Pclass                            0      0.0"
      ]
     },
     "execution_count": 24,
     "metadata": {},
     "output_type": "execute_result"
    }
   ],
   "source": [
    "#Check for the missing values to check if any random extraction happened? Validate that shuffle was false\n",
    "\n",
    "obs = test_set.isnull().sum().sort_values(ascending = False)\n",
    "percent = round(test_set.isnull().sum().sort_values(ascending = False)/len(test_set)*100, 2)\n",
    "pd.concat([obs, percent], axis = 1,keys= ['Number of Observations', 'Percent'])"
   ]
  },
  {
   "cell_type": "code",
   "execution_count": 25,
   "metadata": {
    "execution": {
     "iopub.execute_input": "2020-09-13T13:35:59.423722Z",
     "iopub.status.busy": "2020-09-13T13:35:59.423210Z",
     "iopub.status.idle": "2020-09-13T13:35:59.429161Z",
     "shell.execute_reply": "2020-09-13T13:35:59.429637Z"
    },
    "papermill": {
     "duration": 0.041697,
     "end_time": "2020-09-13T13:35:59.429755",
     "exception": false,
     "start_time": "2020-09-13T13:35:59.388058",
     "status": "completed"
    },
    "tags": []
   },
   "outputs": [],
   "source": [
    "# Now define x and y.\n",
    "\n",
    "#the Y Variable\n",
    "train_set_y = train_set[\"Survived\"].copy()\n",
    "test_set_y = test_set[\"Survived\"].copy()\n",
    "\n",
    "#the X variables\n",
    "train_set_X = train_set.drop(\"Survived\", axis=1)\n",
    "test_set_X = test_set.drop(\"Survived\", axis=1)"
   ]
  },
  {
   "cell_type": "markdown",
   "metadata": {
    "papermill": {
     "duration": 0.033404,
     "end_time": "2020-09-13T13:35:59.495785",
     "exception": false,
     "start_time": "2020-09-13T13:35:59.462381",
     "status": "completed"
    },
    "tags": []
   },
   "source": [
    "##### Here Starts the Data Pipeline"
   ]
  },
  {
   "cell_type": "code",
   "execution_count": 26,
   "metadata": {
    "execution": {
     "iopub.execute_input": "2020-09-13T13:35:59.563687Z",
     "iopub.status.busy": "2020-09-13T13:35:59.563143Z",
     "iopub.status.idle": "2020-09-13T13:35:59.584615Z",
     "shell.execute_reply": "2020-09-13T13:35:59.585091Z"
    },
    "papermill": {
     "duration": 0.056873,
     "end_time": "2020-09-13T13:35:59.585232",
     "exception": false,
     "start_time": "2020-09-13T13:35:59.528359",
     "status": "completed"
    },
    "tags": []
   },
   "outputs": [],
   "source": [
    "# The CategoricalEncoder class will allow us to convert categorical attributes to one-hot vectors.\n",
    "\n",
    "class CategoricalEncoder(BaseEstimator, TransformerMixin):\n",
    "    def __init__(self, encoding='onehot', categories='auto', dtype=np.float64,\n",
    "                 handle_unknown='error'):\n",
    "        self.encoding = encoding\n",
    "        self.categories = categories\n",
    "        self.dtype = dtype\n",
    "        self.handle_unknown = handle_unknown\n",
    "\n",
    "    def fit(self, X, y=None):\n",
    "        \"\"\"Fit the CategoricalEncoder to X.\n",
    "        Parameters\n",
    "        ----------\n",
    "        X : array-like, shape [n_samples, n_feature]\n",
    "            The data to determine the categories of each feature.\n",
    "        Returns\n",
    "        -------\n",
    "        self\n",
    "        \"\"\"\n",
    "\n",
    "        if self.encoding not in ['onehot', 'onehot-dense', 'ordinal']:\n",
    "            template = (\"encoding should be either 'onehot', 'onehot-dense' \"\n",
    "                        \"or 'ordinal', got %s\")\n",
    "            raise ValueError(template % self.handle_unknown)\n",
    "\n",
    "        if self.handle_unknown not in ['error', 'ignore']:\n",
    "            template = (\"handle_unknown should be either 'error' or \"\n",
    "                        \"'ignore', got %s\")\n",
    "            raise ValueError(template % self.handle_unknown)\n",
    "\n",
    "        if self.encoding == 'ordinal' and self.handle_unknown == 'ignore':\n",
    "            raise ValueError(\"handle_unknown='ignore' is not supported for\"\n",
    "                             \" encoding='ordinal'\")\n",
    "\n",
    "        X = check_array(X, dtype=np.object, accept_sparse='csc', copy=True)\n",
    "        n_samples, n_features = X.shape\n",
    "\n",
    "        self._label_encoders_ = [LabelEncoder() for _ in range(n_features)]\n",
    "\n",
    "        for i in range(n_features):\n",
    "            le = self._label_encoders_[i]\n",
    "            Xi = X[:, i]\n",
    "            if self.categories == 'auto':\n",
    "                le.fit(Xi)\n",
    "            else:\n",
    "                valid_mask = np.in1d(Xi, self.categories[i])\n",
    "                if not np.all(valid_mask):\n",
    "                    if self.handle_unknown == 'error':\n",
    "                        diff = np.unique(Xi[~valid_mask])\n",
    "                        msg = (\"Found unknown categories {0} in column {1}\"\n",
    "                               \" during fit\".format(diff, i))\n",
    "                        raise ValueError(msg)\n",
    "                le.classes_ = np.array(np.sort(self.categories[i]))\n",
    "\n",
    "        self.categories_ = [le.classes_ for le in self._label_encoders_]\n",
    "\n",
    "        return self\n",
    "\n",
    "    def transform(self, X):\n",
    "        \"\"\"Transform X using one-hot encoding.\n",
    "        Parameters\n",
    "        ----------\n",
    "        X : array-like, shape [n_samples, n_features]\n",
    "            The data to encode.\n",
    "        Returns\n",
    "        -------\n",
    "        X_out : sparse matrix or a 2-d array\n",
    "            Transformed input.\n",
    "        \"\"\"\n",
    "        X = check_array(X, accept_sparse='csc', dtype=np.object, copy=True)\n",
    "        n_samples, n_features = X.shape\n",
    "        X_int = np.zeros_like(X, dtype=np.int)\n",
    "        X_mask = np.ones_like(X, dtype=np.bool)\n",
    "\n",
    "        for i in range(n_features):\n",
    "            valid_mask = np.in1d(X[:, i], self.categories_[i])\n",
    "\n",
    "            if not np.all(valid_mask):\n",
    "                if self.handle_unknown == 'error':\n",
    "                    diff = np.unique(X[~valid_mask, i])\n",
    "                    msg = (\"Found unknown categories {0} in column {1}\"\n",
    "                           \" during transform\".format(diff, i))\n",
    "                    raise ValueError(msg)\n",
    "                else:\n",
    "                    # Set the problematic rows to an acceptable value and\n",
    "                    # continue `The rows are marked `X_mask` and will be\n",
    "                    # removed later.\n",
    "                    X_mask[:, i] = valid_mask\n",
    "                    X[:, i][~valid_mask] = self.categories_[i][0]\n",
    "            X_int[:, i] = self._label_encoders_[i].transform(X[:, i])\n",
    "\n",
    "        if self.encoding == 'ordinal':\n",
    "            return X_int.astype(self.dtype, copy=False)\n",
    "\n",
    "        mask = X_mask.ravel()\n",
    "        n_values = [cats.shape[0] for cats in self.categories_]\n",
    "        n_values = np.array([0] + n_values)\n",
    "        indices = np.cumsum(n_values)\n",
    "\n",
    "        column_indices = (X_int + indices[:-1]).ravel()[mask]\n",
    "        row_indices = np.repeat(np.arange(n_samples, dtype=np.int32),\n",
    "                                n_features)[mask]\n",
    "        data = np.ones(n_samples * n_features)[mask]\n",
    "\n",
    "        out = sparse.csc_matrix((data, (row_indices, column_indices)),\n",
    "                                shape=(n_samples, indices[-1]),\n",
    "                                dtype=self.dtype).tocsr()\n",
    "        if self.encoding == 'onehot-dense':\n",
    "            return out.toarray()\n",
    "        else:\n",
    "            return out"
   ]
  },
  {
   "cell_type": "code",
   "execution_count": 27,
   "metadata": {
    "execution": {
     "iopub.execute_input": "2020-09-13T13:35:59.653599Z",
     "iopub.status.busy": "2020-09-13T13:35:59.653080Z",
     "iopub.status.idle": "2020-09-13T13:35:59.658445Z",
     "shell.execute_reply": "2020-09-13T13:35:59.658041Z"
    },
    "papermill": {
     "duration": 0.040438,
     "end_time": "2020-09-13T13:35:59.658559",
     "exception": false,
     "start_time": "2020-09-13T13:35:59.618121",
     "status": "completed"
    },
    "tags": []
   },
   "outputs": [],
   "source": [
    "class DataFrameSelector(BaseEstimator, TransformerMixin):\n",
    "    def __init__(self, attribute_names):\n",
    "        self.attribute_names = attribute_names\n",
    "    def fit(self, X, y=None):\n",
    "        return self\n",
    "    def transform(self, X):\n",
    "        return X[self.attribute_names]"
   ]
  },
  {
   "cell_type": "code",
   "execution_count": 28,
   "metadata": {
    "execution": {
     "iopub.execute_input": "2020-09-13T13:35:59.730682Z",
     "iopub.status.busy": "2020-09-13T13:35:59.730163Z",
     "iopub.status.idle": "2020-09-13T13:35:59.732617Z",
     "shell.execute_reply": "2020-09-13T13:35:59.732190Z"
    },
    "papermill": {
     "duration": 0.041036,
     "end_time": "2020-09-13T13:35:59.732716",
     "exception": false,
     "start_time": "2020-09-13T13:35:59.691680",
     "status": "completed"
    },
    "tags": []
   },
   "outputs": [],
   "source": [
    "cat_pipeline = Pipeline([\n",
    "        (\"selector\", DataFrameSelector([\"Title\"])),\n",
    "        (\"cat_encoder\", CategoricalEncoder(encoding='onehot-dense')),\n",
    "    ])\n",
    "\n",
    "num_pipeline = Pipeline([\n",
    "        (\"selector\", DataFrameSelector([\"Pclass\",\"Family Size\",\"FareBin\", \"AgeBin\"])),\n",
    "        ('std_scaler', StandardScaler()),\n",
    "      ])\n",
    "\n",
    "no_pipeline = Pipeline([\n",
    "        (\"selector\", DataFrameSelector([\"Sex\"]))\n",
    "    ])"
   ]
  },
  {
   "cell_type": "code",
   "execution_count": 29,
   "metadata": {
    "execution": {
     "iopub.execute_input": "2020-09-13T13:35:59.809012Z",
     "iopub.status.busy": "2020-09-13T13:35:59.808370Z",
     "iopub.status.idle": "2020-09-13T13:35:59.824623Z",
     "shell.execute_reply": "2020-09-13T13:35:59.824166Z"
    },
    "papermill": {
     "duration": 0.059183,
     "end_time": "2020-09-13T13:35:59.824721",
     "exception": false,
     "start_time": "2020-09-13T13:35:59.765538",
     "status": "completed"
    },
    "tags": []
   },
   "outputs": [],
   "source": [
    "full_pipeline = FeatureUnion(transformer_list=[\n",
    "    (\"cat_pipeline\", cat_pipeline),\n",
    "    (\"num_pipeline\", num_pipeline),\n",
    "    (\"no_pipeline\", no_pipeline),\n",
    "    ])\n",
    "\n",
    "final_train_X = full_pipeline.fit_transform(train_set_X)\n",
    "final_test_X = full_pipeline.transform(test_set_X)"
   ]
  },
  {
   "cell_type": "markdown",
   "metadata": {
    "papermill": {
     "duration": 0.034486,
     "end_time": "2020-09-13T13:35:59.892512",
     "exception": false,
     "start_time": "2020-09-13T13:35:59.858026",
     "status": "completed"
    },
    "tags": []
   },
   "source": [
    "#### Now We Build the Models"
   ]
  },
  {
   "cell_type": "markdown",
   "metadata": {
    "papermill": {
     "duration": 0.033779,
     "end_time": "2020-09-13T13:35:59.962640",
     "exception": false,
     "start_time": "2020-09-13T13:35:59.928861",
     "status": "completed"
    },
    "tags": []
   },
   "source": [
    "#### KNN Classifier"
   ]
  },
  {
   "cell_type": "code",
   "execution_count": 30,
   "metadata": {
    "execution": {
     "iopub.execute_input": "2020-09-13T13:36:00.034484Z",
     "iopub.status.busy": "2020-09-13T13:36:00.033616Z",
     "iopub.status.idle": "2020-09-13T13:36:02.896267Z",
     "shell.execute_reply": "2020-09-13T13:36:02.895752Z"
    },
    "papermill": {
     "duration": 2.900038,
     "end_time": "2020-09-13T13:36:02.896368",
     "exception": false,
     "start_time": "2020-09-13T13:35:59.996330",
     "status": "completed"
    },
    "tags": []
   },
   "outputs": [
    {
     "name": "stdout",
     "output_type": "stream",
     "text": [
      "Fitting 4 folds for each of 96 candidates, totalling 384 fits\n"
     ]
    },
    {
     "name": "stderr",
     "output_type": "stream",
     "text": [
      "[Parallel(n_jobs=-1)]: Using backend LokyBackend with 4 concurrent workers.\n",
      "[Parallel(n_jobs=-1)]: Done  38 tasks      | elapsed:    2.0s\n",
      "[Parallel(n_jobs=-1)]: Done 384 out of 384 | elapsed:    2.8s finished\n"
     ]
    },
    {
     "data": {
      "text/plain": [
       "GridSearchCV(cv=4, estimator=KNeighborsClassifier(), n_jobs=-1,\n",
       "             param_grid={'algorithm': ['auto'],\n",
       "                         'leaf_size': [1, 6, 11, 16, 21, 26, 31, 36],\n",
       "                         'n_neighbors': [4, 6, 8, 10, 12, 14],\n",
       "                         'weights': ['uniform', 'distance']},\n",
       "             scoring='roc_auc', verbose=2)"
      ]
     },
     "execution_count": 30,
     "metadata": {},
     "output_type": "execute_result"
    }
   ],
   "source": [
    "#Introduce KNN Classifier \n",
    "\n",
    "KNeighbours = KNeighborsClassifier()\n",
    "leaf_size = list(range(1,40,5))\n",
    "n_neighbors = list(range(4,15,2))\n",
    "\n",
    "param_grid_KNeighbours = {'n_neighbors' : n_neighbors,\n",
    "'algorithm' : ['auto'],\n",
    "'weights' : ['uniform', 'distance'],\n",
    "'leaf_size':leaf_size }\n",
    "\n",
    "grid_search_KNeighbours = GridSearchCV(KNeighbours, param_grid_KNeighbours, cv = 4, scoring='roc_auc', \n",
    "                               refit = True, n_jobs = -1, verbose = 2)\n",
    "\n",
    "grid_search_KNeighbours.fit(final_train_X, train_set_y)"
   ]
  },
  {
   "cell_type": "code",
   "execution_count": 31,
   "metadata": {
    "execution": {
     "iopub.execute_input": "2020-09-13T13:36:02.971793Z",
     "iopub.status.busy": "2020-09-13T13:36:02.970873Z",
     "iopub.status.idle": "2020-09-13T13:36:03.034310Z",
     "shell.execute_reply": "2020-09-13T13:36:03.033765Z"
    },
    "papermill": {
     "duration": 0.10353,
     "end_time": "2020-09-13T13:36:03.034420",
     "exception": false,
     "start_time": "2020-09-13T13:36:02.930890",
     "status": "completed"
    },
    "tags": []
   },
   "outputs": [
    {
     "data": {
      "text/plain": [
       "0.8484848484848485"
      ]
     },
     "execution_count": 31,
     "metadata": {},
     "output_type": "execute_result"
    }
   ],
   "source": [
    "neighbor_grid = grid_search_KNeighbours.best_estimator_\n",
    "\n",
    "y_pred_neighbor_grid = neighbor_grid.predict(final_train_X)\n",
    "accuracy_score(train_set_y, y_pred_neighbor_grid)"
   ]
  },
  {
   "cell_type": "markdown",
   "metadata": {
    "papermill": {
     "duration": 0.03525,
     "end_time": "2020-09-13T13:36:03.105191",
     "exception": false,
     "start_time": "2020-09-13T13:36:03.069941",
     "status": "completed"
    },
    "tags": []
   },
   "source": [
    "#### Another KNN Approach"
   ]
  },
  {
   "cell_type": "code",
   "execution_count": 32,
   "metadata": {
    "execution": {
     "iopub.execute_input": "2020-09-13T13:36:03.184011Z",
     "iopub.status.busy": "2020-09-13T13:36:03.183134Z",
     "iopub.status.idle": "2020-09-13T13:36:06.454035Z",
     "shell.execute_reply": "2020-09-13T13:36:06.453105Z"
    },
    "papermill": {
     "duration": 3.313451,
     "end_time": "2020-09-13T13:36:06.454147",
     "exception": false,
     "start_time": "2020-09-13T13:36:03.140696",
     "status": "completed"
    },
    "tags": []
   },
   "outputs": [
    {
     "name": "stdout",
     "output_type": "stream",
     "text": [
      "Fitting 4 folds for each of 320 candidates, totalling 1280 fits\n"
     ]
    },
    {
     "name": "stderr",
     "output_type": "stream",
     "text": [
      "[Parallel(n_jobs=-1)]: Using backend LokyBackend with 4 concurrent workers.\n",
      "[Parallel(n_jobs=-1)]: Done 136 tasks      | elapsed:    0.5s\n",
      "[Parallel(n_jobs=-1)]: Done 1280 out of 1280 | elapsed:    3.3s finished\n"
     ]
    },
    {
     "data": {
      "text/plain": [
       "GridSearchCV(cv=4, estimator=KNeighborsClassifier(), n_jobs=-1,\n",
       "             param_grid={'algorithm': ['auto'],\n",
       "                         'leaf_size': [18, 19, 20, 21, 22, 23, 24, 25, 26, 27,\n",
       "                                       28, 29, 30, 31, 32, 33, 34, 35, 36, 37,\n",
       "                                       38, 39, 40, 41, 42, 43, 44, 45, 46, 47, ...],\n",
       "                         'n_neighbors': [15, 16, 17, 18, 19],\n",
       "                         'weights': ['uniform', 'distance']},\n",
       "             scoring='roc_auc', verbose=2)"
      ]
     },
     "execution_count": 32,
     "metadata": {},
     "output_type": "execute_result"
    }
   ],
   "source": [
    "KNeighbours2 = KNeighborsClassifier()\n",
    "leaf_size2 = list(range(18,50,1))\n",
    "n_neighbors2 = list(range(15,20,1))\n",
    "\n",
    "param_grid_KNeighbours = {'n_neighbors' : n_neighbors2,\n",
    "'algorithm' : ['auto'],\n",
    "'weights' : ['uniform', 'distance'],\n",
    "'leaf_size':leaf_size2}\n",
    "\n",
    "grid_search_KNeighbours2 = GridSearchCV(KNeighbours2, param_grid_KNeighbours, cv = 4, scoring='roc_auc', \n",
    "                               refit = True, n_jobs = -1, verbose = 2)\n",
    "\n",
    "grid_search_KNeighbours2.fit(final_train_X, train_set_y)"
   ]
  },
  {
   "cell_type": "code",
   "execution_count": 33,
   "metadata": {
    "execution": {
     "iopub.execute_input": "2020-09-13T13:36:06.533257Z",
     "iopub.status.busy": "2020-09-13T13:36:06.532355Z",
     "iopub.status.idle": "2020-09-13T13:36:06.574688Z",
     "shell.execute_reply": "2020-09-13T13:36:06.574187Z"
    },
    "papermill": {
     "duration": 0.083703,
     "end_time": "2020-09-13T13:36:06.574796",
     "exception": false,
     "start_time": "2020-09-13T13:36:06.491093",
     "status": "completed"
    },
    "tags": []
   },
   "outputs": [
    {
     "data": {
      "text/plain": [
       "0.8417508417508418"
      ]
     },
     "execution_count": 33,
     "metadata": {},
     "output_type": "execute_result"
    }
   ],
   "source": [
    "neighbor_grid2 = grid_search_KNeighbours2.best_estimator_\n",
    "\n",
    "y_pred_neighbor_grid2 = neighbor_grid2.predict(final_train_X)\n",
    "accuracy_score(train_set_y, y_pred_neighbor_grid2)"
   ]
  },
  {
   "cell_type": "markdown",
   "metadata": {
    "papermill": {
     "duration": 0.037793,
     "end_time": "2020-09-13T13:36:06.689269",
     "exception": false,
     "start_time": "2020-09-13T13:36:06.651476",
     "status": "completed"
    },
    "tags": []
   },
   "source": [
    "##### Random Forest Classifier"
   ]
  },
  {
   "cell_type": "code",
   "execution_count": 34,
   "metadata": {
    "execution": {
     "iopub.execute_input": "2020-09-13T13:36:06.772719Z",
     "iopub.status.busy": "2020-09-13T13:36:06.771778Z",
     "iopub.status.idle": "2020-09-13T13:36:07.740408Z",
     "shell.execute_reply": "2020-09-13T13:36:07.740817Z"
    },
    "papermill": {
     "duration": 1.013722,
     "end_time": "2020-09-13T13:36:07.740962",
     "exception": false,
     "start_time": "2020-09-13T13:36:06.727240",
     "status": "completed"
    },
    "tags": []
   },
   "outputs": [
    {
     "name": "stdout",
     "output_type": "stream",
     "text": [
      "Fitting 4 folds for each of 10 candidates, totalling 40 fits\n"
     ]
    },
    {
     "name": "stderr",
     "output_type": "stream",
     "text": [
      "[Parallel(n_jobs=-1)]: Using backend LokyBackend with 4 concurrent workers.\n",
      "[Parallel(n_jobs=-1)]: Done  40 out of  40 | elapsed:    0.9s finished\n"
     ]
    },
    {
     "data": {
      "text/plain": [
       "RandomizedSearchCV(cv=4, estimator=RandomForestClassifier(random_state=42),\n",
       "                   n_jobs=-1,\n",
       "                   param_distributions={'max_depth': [2, 10, 20],\n",
       "                                        'max_features': [0.1, 0.5],\n",
       "                                        'max_leaf_nodes': [2, 10, 50],\n",
       "                                        'min_samples_leaf': [0.1, 0.5],\n",
       "                                        'min_samples_split': [0.1, 0.5],\n",
       "                                        'n_estimators': [10, 50],\n",
       "                                        'oob_score': [True, False]},\n",
       "                   scoring='roc_auc', verbose=2)"
      ]
     },
     "execution_count": 34,
     "metadata": {},
     "output_type": "execute_result"
    }
   ],
   "source": [
    "forest_class = RandomForestClassifier(random_state = 42)\n",
    "\n",
    "n_estimators = [10, 50]\n",
    "max_features = [0.1, 0.5]\n",
    "max_depth = [2, 10, 20] \n",
    "oob_score = [True, False]\n",
    "min_samples_split = [0.1, 0.5]\n",
    "min_samples_leaf = [0.1, 0.5] \n",
    "max_leaf_nodes = [2, 10, 50]\n",
    "\n",
    "param_grid_forest = {'n_estimators' : n_estimators, 'max_features' : max_features,\n",
    "                     'max_depth' : max_depth, 'min_samples_split' : min_samples_split,\n",
    "                    'oob_score' : oob_score, 'min_samples_leaf': min_samples_leaf, \n",
    "                     'max_leaf_nodes' : max_leaf_nodes}\n",
    "\n",
    "\n",
    "rand_search_forest = RandomizedSearchCV(forest_class, param_grid_forest, cv = 4, scoring='roc_auc', refit = True,\n",
    "                                 n_jobs = -1, verbose=2)\n",
    "\n",
    "rand_search_forest.fit(final_train_X, train_set_y)"
   ]
  },
  {
   "cell_type": "code",
   "execution_count": 35,
   "metadata": {
    "execution": {
     "iopub.execute_input": "2020-09-13T13:36:07.821982Z",
     "iopub.status.busy": "2020-09-13T13:36:07.821382Z",
     "iopub.status.idle": "2020-09-13T13:36:07.827001Z",
     "shell.execute_reply": "2020-09-13T13:36:07.827405Z"
    },
    "papermill": {
     "duration": 0.048408,
     "end_time": "2020-09-13T13:36:07.827552",
     "exception": false,
     "start_time": "2020-09-13T13:36:07.779144",
     "status": "completed"
    },
    "tags": []
   },
   "outputs": [
    {
     "data": {
      "text/plain": [
       "0.7867564534231201"
      ]
     },
     "execution_count": 35,
     "metadata": {},
     "output_type": "execute_result"
    }
   ],
   "source": [
    "random_estimator = rand_search_forest.best_estimator_\n",
    "\n",
    "y_pred_random_estimator = random_estimator.predict(final_train_X)\n",
    "accuracy_score(train_set_y, y_pred_random_estimator)"
   ]
  },
  {
   "cell_type": "markdown",
   "metadata": {
    "papermill": {
     "duration": 0.038528,
     "end_time": "2020-09-13T13:36:07.904489",
     "exception": false,
     "start_time": "2020-09-13T13:36:07.865961",
     "status": "completed"
    },
    "tags": []
   },
   "source": [
    "###### Ada Boost Classifier"
   ]
  },
  {
   "cell_type": "code",
   "execution_count": 36,
   "metadata": {
    "execution": {
     "iopub.execute_input": "2020-09-13T13:36:07.985856Z",
     "iopub.status.busy": "2020-09-13T13:36:07.985298Z",
     "iopub.status.idle": "2020-09-13T13:36:09.674038Z",
     "shell.execute_reply": "2020-09-13T13:36:09.674785Z"
    },
    "papermill": {
     "duration": 1.731423,
     "end_time": "2020-09-13T13:36:09.674995",
     "exception": false,
     "start_time": "2020-09-13T13:36:07.943572",
     "status": "completed"
    },
    "tags": []
   },
   "outputs": [
    {
     "name": "stdout",
     "output_type": "stream",
     "text": [
      "Fitting 4 folds for each of 10 candidates, totalling 40 fits\n"
     ]
    },
    {
     "name": "stderr",
     "output_type": "stream",
     "text": [
      "[Parallel(n_jobs=-1)]: Using backend LokyBackend with 4 concurrent workers.\n",
      "[Parallel(n_jobs=-1)]: Done  40 out of  40 | elapsed:    1.5s finished\n"
     ]
    },
    {
     "data": {
      "text/plain": [
       "RandomizedSearchCV(cv=4, estimator=AdaBoostClassifier(random_state=42),\n",
       "                   n_jobs=-1,\n",
       "                   param_distributions={'algorithm': ['SAMME', 'SAMME.R'],\n",
       "                                        'learning_rate': [0.1, 0.5, 0.9],\n",
       "                                        'n_estimators': [3, 20, 50, 70, 90]},\n",
       "                   scoring='roc_auc', verbose=2)"
      ]
     },
     "execution_count": 36,
     "metadata": {},
     "output_type": "execute_result"
    }
   ],
   "source": [
    "ada_boost = AdaBoostClassifier(random_state = 42)\n",
    "\n",
    "n_estimators = [3, 20, 50, 70, 90]\n",
    "learning_rate = [0.1, 0.5, 0.9]\n",
    "algorithm = ['SAMME', 'SAMME.R']\n",
    "\n",
    "param_grid_ada = {'n_estimators' : n_estimators, 'learning_rate' : learning_rate, 'algorithm' : algorithm}\n",
    "\n",
    "rand_search_ada = RandomizedSearchCV(ada_boost, param_grid_ada, cv = 4, scoring='roc_auc', refit = True, n_jobs = -1, verbose = 2)\n",
    "\n",
    "rand_search_ada.fit(final_train_X, train_set_y)"
   ]
  },
  {
   "cell_type": "code",
   "execution_count": 37,
   "metadata": {
    "execution": {
     "iopub.execute_input": "2020-09-13T13:36:09.776118Z",
     "iopub.status.busy": "2020-09-13T13:36:09.770566Z",
     "iopub.status.idle": "2020-09-13T13:36:09.802253Z",
     "shell.execute_reply": "2020-09-13T13:36:09.801643Z"
    },
    "papermill": {
     "duration": 0.085591,
     "end_time": "2020-09-13T13:36:09.802364",
     "exception": false,
     "start_time": "2020-09-13T13:36:09.716773",
     "status": "completed"
    },
    "tags": []
   },
   "outputs": [
    {
     "data": {
      "text/plain": [
       "0.8226711560044894"
      ]
     },
     "execution_count": 37,
     "metadata": {},
     "output_type": "execute_result"
    }
   ],
   "source": [
    "ada_estimator = rand_search_ada.best_estimator_\n",
    "\n",
    "y_pred_ada_estimator = ada_estimator.predict(final_train_X)\n",
    "accuracy_score(train_set_y, y_pred_ada_estimator)"
   ]
  },
  {
   "cell_type": "markdown",
   "metadata": {
    "papermill": {
     "duration": 0.039986,
     "end_time": "2020-09-13T13:36:09.883281",
     "exception": false,
     "start_time": "2020-09-13T13:36:09.843295",
     "status": "completed"
    },
    "tags": []
   },
   "source": [
    "###### Extra Trees Classifier"
   ]
  },
  {
   "cell_type": "code",
   "execution_count": 38,
   "metadata": {
    "execution": {
     "iopub.execute_input": "2020-09-13T13:36:09.970264Z",
     "iopub.status.busy": "2020-09-13T13:36:09.969109Z",
     "iopub.status.idle": "2020-09-13T13:36:10.956817Z",
     "shell.execute_reply": "2020-09-13T13:36:10.957481Z"
    },
    "papermill": {
     "duration": 1.034835,
     "end_time": "2020-09-13T13:36:10.957674",
     "exception": false,
     "start_time": "2020-09-13T13:36:09.922839",
     "status": "completed"
    },
    "tags": []
   },
   "outputs": [
    {
     "name": "stdout",
     "output_type": "stream",
     "text": [
      "Fitting 4 folds for each of 10 candidates, totalling 40 fits\n"
     ]
    },
    {
     "name": "stderr",
     "output_type": "stream",
     "text": [
      "[Parallel(n_jobs=-1)]: Using backend LokyBackend with 4 concurrent workers.\n",
      "[Parallel(n_jobs=-1)]: Done  40 out of  40 | elapsed:    0.9s finished\n"
     ]
    },
    {
     "data": {
      "text/plain": [
       "RandomizedSearchCV(cv=4, estimator=ExtraTreesClassifier(random_state=42),\n",
       "                   n_jobs=-1,\n",
       "                   param_distributions={'max_depth': [2, 50, 100],\n",
       "                                        'max_features': [0.1, 0.5],\n",
       "                                        'min_samples_leaf': [0.1, 0.5],\n",
       "                                        'min_samples_split': [0.1, 0.5],\n",
       "                                        'n_estimators': [3, 40, 60, 80]},\n",
       "                   scoring='roc_auc', verbose=2)"
      ]
     },
     "execution_count": 38,
     "metadata": {},
     "output_type": "execute_result"
    }
   ],
   "source": [
    "extra_classifier = ExtraTreesClassifier(random_state = 42)\n",
    "\n",
    "n_estimators = [3, 40, 60, 80]\n",
    "max_features = [0.1, 0.5]\n",
    "max_depth = [2, 50, 100]\n",
    "min_samples_split = [0.1, 0.5]\n",
    "min_samples_leaf = [0.1, 0.5] # Mhm, this one leads to accuracy of test and train sets being the same.\n",
    "\n",
    "param_grid_extra_trees = {'n_estimators' : n_estimators, 'max_features' : max_features,\n",
    "                         'max_depth' : max_depth, 'min_samples_split' : min_samples_split,\n",
    "                         'min_samples_leaf' : min_samples_leaf}\n",
    "\n",
    "\n",
    "rand_search_extra_trees = RandomizedSearchCV(extra_classifier, param_grid_extra_trees, cv = 4, scoring='roc_auc', \n",
    "                               refit = True, n_jobs = -1, verbose = 2)\n",
    "\n",
    "rand_search_extra_trees.fit(final_train_X, train_set_y)"
   ]
  },
  {
   "cell_type": "code",
   "execution_count": 39,
   "metadata": {
    "execution": {
     "iopub.execute_input": "2020-09-13T13:36:11.046172Z",
     "iopub.status.busy": "2020-09-13T13:36:11.045626Z",
     "iopub.status.idle": "2020-09-13T13:36:11.056833Z",
     "shell.execute_reply": "2020-09-13T13:36:11.057212Z"
    },
    "papermill": {
     "duration": 0.057294,
     "end_time": "2020-09-13T13:36:11.057344",
     "exception": false,
     "start_time": "2020-09-13T13:36:11.000050",
     "status": "completed"
    },
    "tags": []
   },
   "outputs": [
    {
     "data": {
      "text/plain": [
       "0.792368125701459"
      ]
     },
     "execution_count": 39,
     "metadata": {},
     "output_type": "execute_result"
    }
   ],
   "source": [
    "extra_estimator = rand_search_extra_trees.best_estimator_\n",
    "\n",
    "y_pred_extra_estimator = extra_estimator.predict(final_train_X)\n",
    "accuracy_score(train_set_y, y_pred_extra_estimator)"
   ]
  },
  {
   "cell_type": "markdown",
   "metadata": {
    "papermill": {
     "duration": 0.040407,
     "end_time": "2020-09-13T13:36:11.138207",
     "exception": false,
     "start_time": "2020-09-13T13:36:11.097800",
     "status": "completed"
    },
    "tags": []
   },
   "source": [
    "#### Support Vector Classifier"
   ]
  },
  {
   "cell_type": "code",
   "execution_count": 40,
   "metadata": {
    "execution": {
     "iopub.execute_input": "2020-09-13T13:36:11.222469Z",
     "iopub.status.busy": "2020-09-13T13:36:11.221944Z",
     "iopub.status.idle": "2020-09-13T13:38:55.562897Z",
     "shell.execute_reply": "2020-09-13T13:38:55.562349Z"
    },
    "papermill": {
     "duration": 164.383975,
     "end_time": "2020-09-13T13:38:55.563010",
     "exception": false,
     "start_time": "2020-09-13T13:36:11.179035",
     "status": "completed"
    },
    "tags": []
   },
   "outputs": [
    {
     "name": "stdout",
     "output_type": "stream",
     "text": [
      "Fitting 5 folds for each of 10 candidates, totalling 50 fits\n"
     ]
    },
    {
     "name": "stderr",
     "output_type": "stream",
     "text": [
      "[Parallel(n_jobs=-1)]: Using backend LokyBackend with 4 concurrent workers.\n",
      "[Parallel(n_jobs=-1)]: Done  41 tasks      | elapsed:  2.1min\n",
      "[Parallel(n_jobs=-1)]: Done  50 out of  50 | elapsed:  2.7min finished\n"
     ]
    },
    {
     "data": {
      "text/plain": [
       "RandomizedSearchCV(estimator=SVC(random_state=42), n_jobs=-1,\n",
       "                   param_distributions={'C': <scipy.stats._distn_infrastructure.rv_frozen object at 0x7ff52a0d6490>,\n",
       "                                        'gamma': <scipy.stats._distn_infrastructure.rv_frozen object at 0x7ff52a0d6810>},\n",
       "                   verbose=2)"
      ]
     },
     "execution_count": 40,
     "metadata": {},
     "output_type": "execute_result"
    }
   ],
   "source": [
    "SVC_Classifier = SVC(random_state = 42)\n",
    "\n",
    "param_distributions = {\"gamma\": reciprocal(0.0001, 1), \"C\": uniform(100000, 1000000)}\n",
    "\n",
    "rand_search_svc = RandomizedSearchCV(SVC_Classifier, param_distributions, n_iter=10, verbose=2, n_jobs = -1)\n",
    "\n",
    "rand_search_svc.fit(final_train_X, train_set_y)"
   ]
  },
  {
   "cell_type": "code",
   "execution_count": 41,
   "metadata": {
    "execution": {
     "iopub.execute_input": "2020-09-13T13:38:55.651093Z",
     "iopub.status.busy": "2020-09-13T13:38:55.650458Z",
     "iopub.status.idle": "2020-09-13T13:38:55.664968Z",
     "shell.execute_reply": "2020-09-13T13:38:55.665413Z"
    },
    "papermill": {
     "duration": 0.060688,
     "end_time": "2020-09-13T13:38:55.665551",
     "exception": false,
     "start_time": "2020-09-13T13:38:55.604863",
     "status": "completed"
    },
    "tags": []
   },
   "outputs": [
    {
     "data": {
      "text/plain": [
       "0.8338945005611672"
      ]
     },
     "execution_count": 41,
     "metadata": {},
     "output_type": "execute_result"
    }
   ],
   "source": [
    "svc_estimator = rand_search_svc.best_estimator_\n",
    "\n",
    "y_pred_svc_estimator = svc_estimator.predict(final_train_X)\n",
    "accuracy_score(train_set_y, y_pred_svc_estimator)"
   ]
  },
  {
   "cell_type": "markdown",
   "metadata": {
    "papermill": {
     "duration": 0.041327,
     "end_time": "2020-09-13T13:38:55.748910",
     "exception": false,
     "start_time": "2020-09-13T13:38:55.707583",
     "status": "completed"
    },
    "tags": []
   },
   "source": [
    "#### Gradient Boosting Classifier"
   ]
  },
  {
   "cell_type": "code",
   "execution_count": 42,
   "metadata": {
    "execution": {
     "iopub.execute_input": "2020-09-13T13:38:55.836677Z",
     "iopub.status.busy": "2020-09-13T13:38:55.836077Z",
     "iopub.status.idle": "2020-09-13T13:38:56.476258Z",
     "shell.execute_reply": "2020-09-13T13:38:56.476995Z"
    },
    "papermill": {
     "duration": 0.685871,
     "end_time": "2020-09-13T13:38:56.477197",
     "exception": false,
     "start_time": "2020-09-13T13:38:55.791326",
     "status": "completed"
    },
    "tags": []
   },
   "outputs": [
    {
     "name": "stdout",
     "output_type": "stream",
     "text": [
      "Fitting 4 folds for each of 10 candidates, totalling 40 fits\n"
     ]
    },
    {
     "name": "stderr",
     "output_type": "stream",
     "text": [
      "[Parallel(n_jobs=-1)]: Using backend LokyBackend with 4 concurrent workers.\n",
      "[Parallel(n_jobs=-1)]: Done  40 out of  40 | elapsed:    0.6s finished\n"
     ]
    },
    {
     "data": {
      "text/plain": [
       "RandomizedSearchCV(cv=4, estimator=GradientBoostingClassifier(random_state=42),\n",
       "                   n_jobs=-1,\n",
       "                   param_distributions={'learning_rate': [0.1, 0.5],\n",
       "                                        'max_depth': [3, 50, 70],\n",
       "                                        'max_features': [0.1, 0.5],\n",
       "                                        'max_leaf_nodes': [2, 50, 70],\n",
       "                                        'min_samples_leaf': [0.1, 0.5],\n",
       "                                        'min_samples_split': [0.1, 0.5],\n",
       "                                        'n_estimators': [3, 100]},\n",
       "                   scoring='roc_auc', verbose=2)"
      ]
     },
     "execution_count": 42,
     "metadata": {},
     "output_type": "execute_result"
    }
   ],
   "source": [
    "GB_Classifier = GradientBoostingClassifier(random_state = 42)\n",
    "\n",
    "n_estimators = [3, 100]\n",
    "learning_rate = [0.1, 0.5]\n",
    "max_depth = [3, 50, 70]\n",
    "min_samples_split = [0.1, 0.5]\n",
    "min_samples_leaf = [0.1, 0.5]\n",
    "max_features = [0.1, 0.5]\n",
    "max_leaf_nodes = [2, 50, 70]\n",
    "                            \n",
    "param_grid_grad_boost_class = {'n_estimators' : n_estimators, 'learning_rate' : learning_rate,\n",
    "                              'max_depth' : max_depth, 'min_samples_split' : min_samples_split,\n",
    "                              'min_samples_leaf' : min_samples_leaf, 'max_features' : max_features,\n",
    "                              'max_leaf_nodes' : max_leaf_nodes}\n",
    "\n",
    "rand_search_grad_boost_class = RandomizedSearchCV(GB_Classifier, param_grid_grad_boost_class, cv = 4, scoring='roc_auc', \n",
    "                               refit = True, n_jobs = -1, verbose = 2)\n",
    "\n",
    "rand_search_grad_boost_class.fit(final_train_X, train_set_y)"
   ]
  },
  {
   "cell_type": "code",
   "execution_count": 43,
   "metadata": {
    "execution": {
     "iopub.execute_input": "2020-09-13T13:38:56.573368Z",
     "iopub.status.busy": "2020-09-13T13:38:56.572722Z",
     "iopub.status.idle": "2020-09-13T13:38:56.578628Z",
     "shell.execute_reply": "2020-09-13T13:38:56.578152Z"
    },
    "papermill": {
     "duration": 0.056461,
     "end_time": "2020-09-13T13:38:56.578736",
     "exception": false,
     "start_time": "2020-09-13T13:38:56.522275",
     "status": "completed"
    },
    "tags": []
   },
   "outputs": [
    {
     "data": {
      "text/plain": [
       "0.8406285072951739"
      ]
     },
     "execution_count": 43,
     "metadata": {},
     "output_type": "execute_result"
    }
   ],
   "source": [
    "gb_estimator = rand_search_grad_boost_class.best_estimator_\n",
    "\n",
    "y_pred_gb_estimator = gb_estimator.predict(final_train_X)\n",
    "accuracy_score(train_set_y, y_pred_gb_estimator)"
   ]
  },
  {
   "cell_type": "markdown",
   "metadata": {
    "papermill": {
     "duration": 0.045214,
     "end_time": "2020-09-13T13:38:56.668779",
     "exception": false,
     "start_time": "2020-09-13T13:38:56.623565",
     "status": "completed"
    },
    "tags": []
   },
   "source": [
    "#### Logistic Classifier"
   ]
  },
  {
   "cell_type": "code",
   "execution_count": 44,
   "metadata": {
    "execution": {
     "iopub.execute_input": "2020-09-13T13:38:56.761187Z",
     "iopub.status.busy": "2020-09-13T13:38:56.760630Z",
     "iopub.status.idle": "2020-09-13T13:38:57.184093Z",
     "shell.execute_reply": "2020-09-13T13:38:57.184753Z"
    },
    "papermill": {
     "duration": 0.471097,
     "end_time": "2020-09-13T13:38:57.184920",
     "exception": false,
     "start_time": "2020-09-13T13:38:56.713823",
     "status": "completed"
    },
    "tags": []
   },
   "outputs": [
    {
     "name": "stdout",
     "output_type": "stream",
     "text": [
      "Fitting 4 folds for each of 10 candidates, totalling 40 fits\n"
     ]
    },
    {
     "name": "stderr",
     "output_type": "stream",
     "text": [
      "[Parallel(n_jobs=-1)]: Using backend LokyBackend with 4 concurrent workers.\n",
      "[Parallel(n_jobs=-1)]: Done  40 out of  40 | elapsed:    0.4s finished\n"
     ]
    },
    {
     "data": {
      "text/plain": [
       "RandomizedSearchCV(cv=4, estimator=LogisticRegression(random_state=42),\n",
       "                   n_jobs=-1,\n",
       "                   param_distributions={'C': array([0.1, 0.2, 0.3, 0.4, 0.5, 0.6, 0.7, 0.8, 0.9, 1. , 1.1, 1.2, 1.3,\n",
       "       1.4, 1.5, 1.6, 1.7, 1.8, 1.9, 2. , 2.1, 2.2, 2.3, 2.4, 2.5, 2.6,\n",
       "       2.7, 2.8, 2.9, 3. , 3.1, 3.2, 3.3, 3.4, 3.5, 3.6, 3.7, 3.8, 3.9,\n",
       "       4. , 4.1, 4.2, 4.3, 4.4, 4.5, 4.6, 4.7, 4.8, 4.9, 5. , 5.1, 5.2,\n",
       "       5.3, 5.4, 5.5, 5.6, 5.7, 5.8, 5.9, 6. , 6.1, 6.2, 6.3, 6.4, 6.5,\n",
       "       6.6, 6.7, 6.8, 6.9, 7. , 7.1, 7.2, 7.3, 7.4, 7.5, 7.6, 7.7, 7.8,\n",
       "       7.9, 8. , 8.1, 8.2, 8.3, 8.4, 8.5, 8.6, 8.7, 8.8, 8.9, 9. , 9.1,\n",
       "       9.2, 9.3, 9.4, 9.5, 9.6, 9.7, 9.8, 9.9])},\n",
       "                   scoring='roc_auc', verbose=2)"
      ]
     },
     "execution_count": 44,
     "metadata": {},
     "output_type": "execute_result"
    }
   ],
   "source": [
    "log_reg = LogisticRegression(random_state = 42)\n",
    "\n",
    "C = np.array(list(range(1, 100)))/10\n",
    "                            \n",
    "param_grid_log_reg = {'C' : C}\n",
    "\n",
    "rand_search_log_reg = RandomizedSearchCV(log_reg, param_grid_log_reg, cv = 4, scoring='roc_auc', \n",
    "                               refit = True, n_jobs = -1, verbose = 2)\n",
    "\n",
    "rand_search_log_reg.fit(final_train_X, train_set_y)"
   ]
  },
  {
   "cell_type": "code",
   "execution_count": 45,
   "metadata": {
    "execution": {
     "iopub.execute_input": "2020-09-13T13:38:57.284803Z",
     "iopub.status.busy": "2020-09-13T13:38:57.283922Z",
     "iopub.status.idle": "2020-09-13T13:38:57.290412Z",
     "shell.execute_reply": "2020-09-13T13:38:57.290920Z"
    },
    "papermill": {
     "duration": 0.054893,
     "end_time": "2020-09-13T13:38:57.291053",
     "exception": false,
     "start_time": "2020-09-13T13:38:57.236160",
     "status": "completed"
    },
    "tags": []
   },
   "outputs": [
    {
     "data": {
      "text/plain": [
       "0.8249158249158249"
      ]
     },
     "execution_count": 45,
     "metadata": {},
     "output_type": "execute_result"
    }
   ],
   "source": [
    "log_estimator = rand_search_log_reg.best_estimator_\n",
    "\n",
    "y_pred_log_estimator = log_estimator.predict(final_train_X)\n",
    "accuracy_score(train_set_y, y_pred_log_estimator)"
   ]
  },
  {
   "cell_type": "markdown",
   "metadata": {
    "papermill": {
     "duration": 0.044833,
     "end_time": "2020-09-13T13:38:57.380892",
     "exception": false,
     "start_time": "2020-09-13T13:38:57.336059",
     "status": "completed"
    },
    "tags": []
   },
   "source": [
    "##### MLP Classifier - Nueral Networks"
   ]
  },
  {
   "cell_type": "code",
   "execution_count": 46,
   "metadata": {
    "execution": {
     "iopub.execute_input": "2020-09-13T13:38:57.474350Z",
     "iopub.status.busy": "2020-09-13T13:38:57.473507Z",
     "iopub.status.idle": "2020-09-13T13:38:57.862496Z",
     "shell.execute_reply": "2020-09-13T13:38:57.863140Z"
    },
    "papermill": {
     "duration": 0.437621,
     "end_time": "2020-09-13T13:38:57.863281",
     "exception": false,
     "start_time": "2020-09-13T13:38:57.425660",
     "status": "completed"
    },
    "tags": []
   },
   "outputs": [
    {
     "name": "stdout",
     "output_type": "stream",
     "text": [
      "Fitting 4 folds for each of 10 candidates, totalling 40 fits\n"
     ]
    },
    {
     "name": "stderr",
     "output_type": "stream",
     "text": [
      "[Parallel(n_jobs=-1)]: Using backend LokyBackend with 4 concurrent workers.\n",
      "[Parallel(n_jobs=-1)]: Done  40 out of  40 | elapsed:    0.3s finished\n"
     ]
    },
    {
     "data": {
      "text/plain": [
       "RandomizedSearchCV(cv=4, estimator=LogisticRegression(random_state=42),\n",
       "                   n_jobs=-1,\n",
       "                   param_distributions={'C': array([0.1, 0.2, 0.3, 0.4, 0.5, 0.6, 0.7, 0.8, 0.9, 1. , 1.1, 1.2, 1.3,\n",
       "       1.4, 1.5, 1.6, 1.7, 1.8, 1.9, 2. , 2.1, 2.2, 2.3, 2.4, 2.5, 2.6,\n",
       "       2.7, 2.8, 2.9, 3. , 3.1, 3.2, 3.3, 3.4, 3.5, 3.6, 3.7, 3.8, 3.9,\n",
       "       4. , 4.1, 4.2, 4.3, 4.4, 4.5, 4.6, 4.7, 4.8, 4.9, 5. , 5.1, 5.2,\n",
       "       5.3, 5.4, 5.5, 5.6, 5.7, 5.8, 5.9, 6. , 6.1, 6.2, 6.3, 6.4, 6.5,\n",
       "       6.6, 6.7, 6.8, 6.9, 7. , 7.1, 7.2, 7.3, 7.4, 7.5, 7.6, 7.7, 7.8,\n",
       "       7.9, 8. , 8.1, 8.2, 8.3, 8.4, 8.5, 8.6, 8.7, 8.8, 8.9, 9. , 9.1,\n",
       "       9.2, 9.3, 9.4, 9.5, 9.6, 9.7, 9.8, 9.9])},\n",
       "                   scoring='roc_auc', verbose=2)"
      ]
     },
     "execution_count": 46,
     "metadata": {},
     "output_type": "execute_result"
    }
   ],
   "source": [
    "mlp_clf = MLPClassifier(random_state = 42)\n",
    "\n",
    "alpha = [.0001,.001,.01,1]\n",
    "learning_rate_init= [.0001,.001,.01,1]\n",
    "max_iter = [50,70,100,200]\n",
    "tol = [.0001,.001,.01,1]\n",
    "\n",
    "param_grid_mlp_clf = {'alpha':alpha, 'learning_rate_init':learning_rate_init, 'max_iter':max_iter,'tol':tol}\n",
    "\n",
    "rand_search_mlp_clf = RandomizedSearchCV(log_reg, param_grid_log_reg, cv = 4, scoring='roc_auc', \n",
    "                               refit = True, n_jobs = -1, verbose = 2)\n",
    "\n",
    "rand_search_mlp_clf.fit(final_train_X, train_set_y)\n"
   ]
  },
  {
   "cell_type": "code",
   "execution_count": 47,
   "metadata": {
    "execution": {
     "iopub.execute_input": "2020-09-13T13:38:57.959163Z",
     "iopub.status.busy": "2020-09-13T13:38:57.958281Z",
     "iopub.status.idle": "2020-09-13T13:38:57.964865Z",
     "shell.execute_reply": "2020-09-13T13:38:57.965265Z"
    },
    "papermill": {
     "duration": 0.05593,
     "end_time": "2020-09-13T13:38:57.965395",
     "exception": false,
     "start_time": "2020-09-13T13:38:57.909465",
     "status": "completed"
    },
    "tags": []
   },
   "outputs": [
    {
     "data": {
      "text/plain": [
       "0.8237934904601572"
      ]
     },
     "execution_count": 47,
     "metadata": {},
     "output_type": "execute_result"
    }
   ],
   "source": [
    "mlp_estimator = rand_search_mlp_clf.best_estimator_\n",
    "\n",
    "y_pred_mlp_estimator = mlp_estimator.predict(final_train_X)\n",
    "accuracy_score(train_set_y, y_pred_mlp_estimator)"
   ]
  },
  {
   "cell_type": "markdown",
   "metadata": {
    "papermill": {
     "duration": 0.047073,
     "end_time": "2020-09-13T13:38:58.059449",
     "exception": false,
     "start_time": "2020-09-13T13:38:58.012376",
     "status": "completed"
    },
    "tags": []
   },
   "source": [
    "##### Voting Classifier - Ensemble the models."
   ]
  },
  {
   "cell_type": "code",
   "execution_count": 48,
   "metadata": {
    "execution": {
     "iopub.execute_input": "2020-09-13T13:38:58.155587Z",
     "iopub.status.busy": "2020-09-13T13:38:58.154734Z",
     "iopub.status.idle": "2020-09-13T13:38:58.862973Z",
     "shell.execute_reply": "2020-09-13T13:38:58.863425Z"
    },
    "papermill": {
     "duration": 0.757704,
     "end_time": "2020-09-13T13:38:58.863582",
     "exception": false,
     "start_time": "2020-09-13T13:38:58.105878",
     "status": "completed"
    },
    "tags": []
   },
   "outputs": [
    {
     "data": {
      "text/plain": [
       "VotingClassifier(estimators=[('lr', LogisticRegression(C=9.4, random_state=42)),\n",
       "                             ('ada',\n",
       "                              AdaBoostClassifier(learning_rate=0.5,\n",
       "                                                 n_estimators=90,\n",
       "                                                 random_state=42)),\n",
       "                             ('gb',\n",
       "                              GradientBoostingClassifier(learning_rate=0.5,\n",
       "                                                         max_depth=70,\n",
       "                                                         max_features=0.1,\n",
       "                                                         max_leaf_nodes=70,\n",
       "                                                         min_samples_leaf=0.1,\n",
       "                                                         min_samples_split=0.1,\n",
       "                                                         random_state=42)),\n",
       "                             ('knn',\n",
       "                              KNeighborsClassifier(leaf_size=1,\n",
       "                                                   n_neighbors=14)),\n",
       "                             ('svc',\n",
       "                              SVC(C=696486.898341737,\n",
       "                                  gamma=0.00011629737803115965,\n",
       "                                  random_state=42)),\n",
       "                             ('mlp', LogisticRegression(random_state=42))])"
      ]
     },
     "execution_count": 48,
     "metadata": {},
     "output_type": "execute_result"
    }
   ],
   "source": [
    "voting_clf = VotingClassifier(\n",
    "    estimators=[('lr', log_estimator), ('ada',ada_estimator), ('gb', gb_estimator), ('knn', neighbor_grid),\n",
    "                ('svc', svc_estimator), ('mlp', mlp_estimator)],\n",
    "    voting='hard')\n",
    "voting_clf.fit(final_train_X, train_set_y)"
   ]
  },
  {
   "cell_type": "code",
   "execution_count": 49,
   "metadata": {
    "execution": {
     "iopub.execute_input": "2020-09-13T13:38:58.962068Z",
     "iopub.status.busy": "2020-09-13T13:38:58.961212Z",
     "iopub.status.idle": "2020-09-13T13:38:59.061649Z",
     "shell.execute_reply": "2020-09-13T13:38:59.062116Z"
    },
    "papermill": {
     "duration": 0.150999,
     "end_time": "2020-09-13T13:38:59.062243",
     "exception": false,
     "start_time": "2020-09-13T13:38:58.911244",
     "status": "completed"
    },
    "tags": []
   },
   "outputs": [
    {
     "data": {
      "text/plain": [
       "0.8338945005611672"
      ]
     },
     "execution_count": 49,
     "metadata": {},
     "output_type": "execute_result"
    }
   ],
   "source": [
    "#Predict the y_pred to get accuracy score.\n",
    "y_pred = voting_clf.predict(final_train_X)\n",
    "accuracy_score(train_set_y, y_pred)"
   ]
  },
  {
   "cell_type": "markdown",
   "metadata": {
    "papermill": {
     "duration": 0.046947,
     "end_time": "2020-09-13T13:38:59.156032",
     "exception": false,
     "start_time": "2020-09-13T13:38:59.109085",
     "status": "completed"
    },
    "tags": []
   },
   "source": [
    "#### Enhanced Voting Classifier - Remove ADA and Grad Boost Classifier - This doesn't improve performance on the test data"
   ]
  },
  {
   "cell_type": "code",
   "execution_count": 50,
   "metadata": {
    "execution": {
     "iopub.execute_input": "2020-09-13T13:38:59.253451Z",
     "iopub.status.busy": "2020-09-13T13:38:59.252582Z",
     "iopub.status.idle": "2020-09-13T13:38:59.256932Z",
     "shell.execute_reply": "2020-09-13T13:38:59.257334Z"
    },
    "papermill": {
     "duration": 0.054238,
     "end_time": "2020-09-13T13:38:59.257453",
     "exception": false,
     "start_time": "2020-09-13T13:38:59.203215",
     "status": "completed"
    },
    "tags": []
   },
   "outputs": [],
   "source": [
    "total_estimators = [\n",
    "    (\"log_reg_clf\", log_estimator),\n",
    "    (\"mlp_clf\", mlp_estimator),\n",
    "    (\"knn_clf\", neighbor_grid),\n",
    "    ('svc_clf', svc_estimator)\n",
    "]"
   ]
  },
  {
   "cell_type": "code",
   "execution_count": 51,
   "metadata": {
    "execution": {
     "iopub.execute_input": "2020-09-13T13:38:59.354038Z",
     "iopub.status.busy": "2020-09-13T13:38:59.353172Z",
     "iopub.status.idle": "2020-09-13T13:38:59.356824Z",
     "shell.execute_reply": "2020-09-13T13:38:59.357245Z"
    },
    "papermill": {
     "duration": 0.053454,
     "end_time": "2020-09-13T13:38:59.357382",
     "exception": false,
     "start_time": "2020-09-13T13:38:59.303928",
     "status": "completed"
    },
    "tags": []
   },
   "outputs": [],
   "source": [
    "voting_clf = VotingClassifier(total_estimators)"
   ]
  },
  {
   "cell_type": "code",
   "execution_count": 52,
   "metadata": {
    "execution": {
     "iopub.execute_input": "2020-09-13T13:38:59.454799Z",
     "iopub.status.busy": "2020-09-13T13:38:59.453972Z",
     "iopub.status.idle": "2020-09-13T13:38:59.992110Z",
     "shell.execute_reply": "2020-09-13T13:38:59.991646Z"
    },
    "papermill": {
     "duration": 0.587916,
     "end_time": "2020-09-13T13:38:59.992211",
     "exception": false,
     "start_time": "2020-09-13T13:38:59.404295",
     "status": "completed"
    },
    "tags": []
   },
   "outputs": [
    {
     "data": {
      "text/plain": [
       "VotingClassifier(estimators=[('log_reg_clf',\n",
       "                              LogisticRegression(C=9.4, random_state=42)),\n",
       "                             ('mlp_clf', LogisticRegression(random_state=42)),\n",
       "                             ('knn_clf',\n",
       "                              KNeighborsClassifier(leaf_size=1,\n",
       "                                                   n_neighbors=14)),\n",
       "                             ('svc_clf',\n",
       "                              SVC(C=696486.898341737,\n",
       "                                  gamma=0.00011629737803115965,\n",
       "                                  random_state=42))])"
      ]
     },
     "execution_count": 52,
     "metadata": {},
     "output_type": "execute_result"
    }
   ],
   "source": [
    "voting_clf.fit(final_train_X, train_set_y)"
   ]
  },
  {
   "cell_type": "code",
   "execution_count": 53,
   "metadata": {
    "execution": {
     "iopub.execute_input": "2020-09-13T13:39:00.095182Z",
     "iopub.status.busy": "2020-09-13T13:39:00.094366Z",
     "iopub.status.idle": "2020-09-13T13:39:00.167974Z",
     "shell.execute_reply": "2020-09-13T13:39:00.168557Z"
    },
    "papermill": {
     "duration": 0.127045,
     "end_time": "2020-09-13T13:39:00.168735",
     "exception": false,
     "start_time": "2020-09-13T13:39:00.041690",
     "status": "completed"
    },
    "tags": []
   },
   "outputs": [
    {
     "data": {
      "text/plain": [
       "0.8338945005611672"
      ]
     },
     "execution_count": 53,
     "metadata": {},
     "output_type": "execute_result"
    }
   ],
   "source": [
    "#Predict the y_pred to get accuracy score.\n",
    "y_pred_voting2 = voting_clf.predict(final_train_X)\n",
    "accuracy_score(train_set_y, y_pred)"
   ]
  },
  {
   "cell_type": "markdown",
   "metadata": {
    "papermill": {
     "duration": 0.050299,
     "end_time": "2020-09-13T13:39:00.275433",
     "exception": false,
     "start_time": "2020-09-13T13:39:00.225134",
     "status": "completed"
    },
    "tags": []
   },
   "source": [
    "SVC looks like a clear winner with 86% accuracy on training set. But Kaggle predicts Voting Classifier as the best classification algorithm"
   ]
  },
  {
   "cell_type": "code",
   "execution_count": 54,
   "metadata": {
    "execution": {
     "iopub.execute_input": "2020-09-13T13:39:00.378231Z",
     "iopub.status.busy": "2020-09-13T13:39:00.377281Z",
     "iopub.status.idle": "2020-09-13T13:39:00.483067Z",
     "shell.execute_reply": "2020-09-13T13:39:00.483475Z"
    },
    "papermill": {
     "duration": 0.15883,
     "end_time": "2020-09-13T13:39:00.483635",
     "exception": false,
     "start_time": "2020-09-13T13:39:00.324805",
     "status": "completed"
    },
    "tags": []
   },
   "outputs": [],
   "source": [
    "# now get the predictions\n",
    "y_pred_svc_rand = svc_estimator.predict(final_test_X)\n",
    "\n",
    "#predict using k neighbors 3\n",
    "y_pred_knn_grid = neighbor_grid.predict(final_test_X)\n",
    "\n",
    "#predict using voting\n",
    "y_pred_voting = voting_clf.predict(final_test_X)\n",
    "\n",
    "#predict using voting 2nd version.\n",
    "y_pred_voting2 = voting_clf.predict(final_test_X)"
   ]
  },
  {
   "cell_type": "code",
   "execution_count": 55,
   "metadata": {
    "execution": {
     "iopub.execute_input": "2020-09-13T13:39:00.584626Z",
     "iopub.status.busy": "2020-09-13T13:39:00.583741Z",
     "iopub.status.idle": "2020-09-13T13:39:00.590374Z",
     "shell.execute_reply": "2020-09-13T13:39:00.590801Z"
    },
    "papermill": {
     "duration": 0.058754,
     "end_time": "2020-09-13T13:39:00.590924",
     "exception": false,
     "start_time": "2020-09-13T13:39:00.532170",
     "status": "completed"
    },
    "tags": []
   },
   "outputs": [],
   "source": [
    "#Create the datafile for SVC\n",
    "result_test1 = pd.DataFrame()\n",
    "passenger_id_test = TestFile[\"PassengerId\"].copy()\n",
    "result_test1[\"PassengerId\"] = passenger_id_test\n",
    "result_test1[\"Survived\"] = y_pred_svc_rand"
   ]
  },
  {
   "cell_type": "code",
   "execution_count": 56,
   "metadata": {
    "execution": {
     "iopub.execute_input": "2020-09-13T13:39:00.696551Z",
     "iopub.status.busy": "2020-09-13T13:39:00.695813Z",
     "iopub.status.idle": "2020-09-13T13:39:00.698219Z",
     "shell.execute_reply": "2020-09-13T13:39:00.697810Z"
    },
    "papermill": {
     "duration": 0.059247,
     "end_time": "2020-09-13T13:39:00.698315",
     "exception": false,
     "start_time": "2020-09-13T13:39:00.639068",
     "status": "completed"
    },
    "tags": []
   },
   "outputs": [],
   "source": [
    "#Create the datafile for voting classifier\n",
    "result_test3 = pd.DataFrame()\n",
    "passenger_id_test = TestFile[\"PassengerId\"].copy()\n",
    "result_test3[\"PassengerId\"] = passenger_id_test\n",
    "result_test3[\"Survived\"] = y_pred_voting"
   ]
  },
  {
   "cell_type": "code",
   "execution_count": 57,
   "metadata": {
    "execution": {
     "iopub.execute_input": "2020-09-13T13:39:00.801895Z",
     "iopub.status.busy": "2020-09-13T13:39:00.800888Z",
     "iopub.status.idle": "2020-09-13T13:39:00.803827Z",
     "shell.execute_reply": "2020-09-13T13:39:00.803336Z"
    },
    "papermill": {
     "duration": 0.057795,
     "end_time": "2020-09-13T13:39:00.803929",
     "exception": false,
     "start_time": "2020-09-13T13:39:00.746134",
     "status": "completed"
    },
    "tags": []
   },
   "outputs": [],
   "source": [
    "#Create the datafile for voting classifier\n",
    "result_test4 = pd.DataFrame()\n",
    "passenger_id_test = TestFile[\"PassengerId\"].copy()\n",
    "result_test4[\"PassengerId\"] = passenger_id_test\n",
    "result_test4[\"Survived\"] = y_pred_voting2"
   ]
  },
  {
   "cell_type": "code",
   "execution_count": 58,
   "metadata": {
    "execution": {
     "iopub.execute_input": "2020-09-13T13:39:00.911426Z",
     "iopub.status.busy": "2020-09-13T13:39:00.910481Z",
     "iopub.status.idle": "2020-09-13T13:39:00.913418Z",
     "shell.execute_reply": "2020-09-13T13:39:00.913005Z"
    },
    "papermill": {
     "duration": 0.059183,
     "end_time": "2020-09-13T13:39:00.913516",
     "exception": false,
     "start_time": "2020-09-13T13:39:00.854333",
     "status": "completed"
    },
    "tags": []
   },
   "outputs": [],
   "source": [
    "#Create the datafile for KNN 3\n",
    "result_test2 = pd.DataFrame()\n",
    "passenger_id_test = TestFile[\"PassengerId\"].copy()\n",
    "result_test2[\"PassengerId\"] = passenger_id_test\n",
    "result_test2[\"Survived\"] = y_pred_knn_grid"
   ]
  },
  {
   "cell_type": "code",
   "execution_count": 59,
   "metadata": {
    "execution": {
     "iopub.execute_input": "2020-09-13T13:39:01.018217Z",
     "iopub.status.busy": "2020-09-13T13:39:01.017691Z",
     "iopub.status.idle": "2020-09-13T13:39:01.354163Z",
     "shell.execute_reply": "2020-09-13T13:39:01.353579Z"
    },
    "papermill": {
     "duration": 0.391162,
     "end_time": "2020-09-13T13:39:01.354262",
     "exception": false,
     "start_time": "2020-09-13T13:39:00.963100",
     "status": "completed"
    },
    "tags": []
   },
   "outputs": [],
   "source": [
    "result_test1.to_csv(\"Titanic_prediction.csv\")"
   ]
  }
 ],
 "metadata": {
  "kernelspec": {
   "display_name": "Python 3",
   "language": "python",
   "name": "python3"
  },
  "language_info": {
   "codemirror_mode": {
    "name": "ipython",
    "version": 3
   },
   "file_extension": ".py",
   "mimetype": "text/x-python",
   "name": "python",
   "nbconvert_exporter": "python",
   "pygments_lexer": "ipython3",
   "version": "3.7.6"
  },
  "papermill": {
   "duration": 188.875622,
   "end_time": "2020-09-13T13:39:01.514060",
   "environment_variables": {},
   "exception": null,
   "input_path": "__notebook__.ipynb",
   "output_path": "__notebook__.ipynb",
   "parameters": {},
   "start_time": "2020-09-13T13:35:52.638438",
   "version": "2.1.0"
  }
 },
 "nbformat": 4,
 "nbformat_minor": 4
}
